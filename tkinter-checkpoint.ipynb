{
 "cells": [
  {
   "cell_type": "code",
   "execution_count": 1,
   "metadata": {},
   "outputs": [],
   "source": [
    "from tkinter import *\n",
    "root = Tk()\n",
    "root.geometry(\"350x200\")\n",
    "root.title(\"Welcome to python\")\n",
    "l1 = Label(root,text=\"welcome to tkinter\")\n",
    "l1.grid(row=0,column=0)\n",
    "l1=Label(root,text=\"welcome to tkinter\", font= (\"Arial black\",50), bg = \"yellow\", fg = \"red\")\n",
    "l1.grid(row=0,column = 0)\n",
    "root.mainloop()\n"
   ]
  },
  {
   "cell_type": "code",
   "execution_count": 2,
   "metadata": {
    "scrolled": true
   },
   "outputs": [],
   "source": [
    "def clicked():\n",
    "    l1.configure(text=\"happy learning\")\n",
    "b1=Button(text=\"click me\",command=clicked)\n",
    "b1.grid(row=0,column=1)\n",
    "root.mainloop()       \n",
    "photo1=Photoimage(file=\"buddha.png\")\n",
    "b1=Button(window)\n",
    "b1.configure(image=photo1,height=\"150\",width=\"150\",command=click)"
   ]
  },
  {
   "cell_type": "code",
   "execution_count": 3,
   "metadata": {},
   "outputs": [],
   "source": [
    "from tkinter import*\n",
    "window = Tk()\n",
    "window.title(\"Button draw\")\n",
    "window.geometry(\"360x250\")\n",
    "def button1_clicked ():\n",
    "    window.configure(background='red')\n",
    "def button2_clicked():\n",
    "    window.configure(background='yellow')\n",
    "def button3_clicked():   \n",
    "    window.configure(background='green') \n",
    "b1 = Button(text = \"red\",command = button1_clicked,background =\"red\")    \n",
    "b2 = Button(text = \"yellow\",command = button2_clicked,background =\"yellow\")    \n",
    "b3 = Button(text = \"green\",command = button3_clicked,background =\"green\") \n",
    "b4 = Button(text = \"black\",command = window.destroy,background= \"black\") \n",
    "b1.grid(row=0,column=0)\n",
    "b2.grid(row=0,column=1)\n",
    "b3.grid(row=0,column=2)\n",
    "b4.grid(row=1,column=1) \n",
    "window.mainloop()"
   ]
  },
  {
   "cell_type": "code",
   "execution_count": 4,
   "metadata": {},
   "outputs": [
    {
     "ename": "TclError",
     "evalue": "can't invoke \"grid\" command: application has been destroyed",
     "output_type": "error",
     "traceback": [
      "\u001b[1;31m---------------------------------------------------------------------------\u001b[0m",
      "\u001b[1;31mTclError\u001b[0m                                  Traceback (most recent call last)",
      "\u001b[1;32m<ipython-input-4-24c3e38c7960>\u001b[0m in \u001b[0;36m<module>\u001b[1;34m()\u001b[0m\n\u001b[0;32m     13\u001b[0m \u001b[0mb3\u001b[0m\u001b[1;33m=\u001b[0m\u001b[0mButton\u001b[0m\u001b[1;33m(\u001b[0m\u001b[0mtext\u001b[0m\u001b[1;33m=\u001b[0m\u001b[1;34m\"blue\"\u001b[0m\u001b[1;33m,\u001b[0m\u001b[0mwidth\u001b[0m\u001b[1;33m=\u001b[0m\u001b[1;36m13\u001b[0m\u001b[1;33m)\u001b[0m\u001b[1;33m\u001b[0m\u001b[0m\n\u001b[0;32m     14\u001b[0m \u001b[0mb4\u001b[0m\u001b[1;33m=\u001b[0m\u001b[0mButton\u001b[0m\u001b[1;33m(\u001b[0m\u001b[0mtext\u001b[0m\u001b[1;33m=\u001b[0m\u001b[1;34m\"exit\"\u001b[0m\u001b[1;33m,\u001b[0m\u001b[0mwidth\u001b[0m\u001b[1;33m=\u001b[0m\u001b[1;36m53\u001b[0m\u001b[1;33m,\u001b[0m\u001b[0mcommand\u001b[0m\u001b[1;33m=\u001b[0m\u001b[0mwindow\u001b[0m\u001b[1;33m.\u001b[0m\u001b[0mdestroy\u001b[0m\u001b[1;33m(\u001b[0m\u001b[1;33m)\u001b[0m\u001b[1;33m)\u001b[0m\u001b[1;33m\u001b[0m\u001b[0m\n\u001b[1;32m---> 15\u001b[1;33m \u001b[0mb1\u001b[0m\u001b[1;33m.\u001b[0m\u001b[0mgrid\u001b[0m\u001b[1;33m(\u001b[0m\u001b[0mrow\u001b[0m\u001b[1;33m=\u001b[0m\u001b[1;36m0\u001b[0m\u001b[1;33m,\u001b[0m\u001b[0mcolumn\u001b[0m\u001b[1;33m=\u001b[0m\u001b[1;36m0\u001b[0m\u001b[1;33m)\u001b[0m\u001b[1;33m\u001b[0m\u001b[0m\n\u001b[0m\u001b[0;32m     16\u001b[0m \u001b[0mb2\u001b[0m\u001b[1;33m.\u001b[0m\u001b[0mgrid\u001b[0m\u001b[1;33m(\u001b[0m\u001b[0mrow\u001b[0m\u001b[1;33m=\u001b[0m\u001b[1;36m0\u001b[0m\u001b[1;33m,\u001b[0m\u001b[0mcolumn\u001b[0m\u001b[1;33m=\u001b[0m\u001b[1;36m1\u001b[0m\u001b[1;33m)\u001b[0m\u001b[1;33m\u001b[0m\u001b[0m\n\u001b[0;32m     17\u001b[0m \u001b[0mb3\u001b[0m\u001b[1;33m.\u001b[0m\u001b[0mgrid\u001b[0m\u001b[1;33m(\u001b[0m\u001b[0mrow\u001b[0m\u001b[1;33m=\u001b[0m\u001b[1;36m0\u001b[0m\u001b[1;33m,\u001b[0m\u001b[0mcolumn\u001b[0m\u001b[1;33m=\u001b[0m\u001b[1;36m2\u001b[0m\u001b[1;33m)\u001b[0m\u001b[1;33m\u001b[0m\u001b[0m\n",
      "\u001b[1;32m~\\Anaconda3\\lib\\tkinter\\__init__.py\u001b[0m in \u001b[0;36mgrid_configure\u001b[1;34m(self, cnf, **kw)\u001b[0m\n\u001b[0;32m   2221\u001b[0m         self.tk.call(\n\u001b[0;32m   2222\u001b[0m               \u001b[1;33m(\u001b[0m\u001b[1;34m'grid'\u001b[0m\u001b[1;33m,\u001b[0m \u001b[1;34m'configure'\u001b[0m\u001b[1;33m,\u001b[0m \u001b[0mself\u001b[0m\u001b[1;33m.\u001b[0m\u001b[0m_w\u001b[0m\u001b[1;33m)\u001b[0m\u001b[1;33m\u001b[0m\u001b[0m\n\u001b[1;32m-> 2223\u001b[1;33m               + self._options(cnf, kw))\n\u001b[0m\u001b[0;32m   2224\u001b[0m     \u001b[0mgrid\u001b[0m \u001b[1;33m=\u001b[0m \u001b[0mconfigure\u001b[0m \u001b[1;33m=\u001b[0m \u001b[0mconfig\u001b[0m \u001b[1;33m=\u001b[0m \u001b[0mgrid_configure\u001b[0m\u001b[1;33m\u001b[0m\u001b[0m\n\u001b[0;32m   2225\u001b[0m     \u001b[0mbbox\u001b[0m \u001b[1;33m=\u001b[0m \u001b[0mgrid_bbox\u001b[0m \u001b[1;33m=\u001b[0m \u001b[0mMisc\u001b[0m\u001b[1;33m.\u001b[0m\u001b[0mgrid_bbox\u001b[0m\u001b[1;33m\u001b[0m\u001b[0m\n",
      "\u001b[1;31mTclError\u001b[0m: can't invoke \"grid\" command: application has been destroyed"
     ]
    }
   ],
   "source": [
    "from tkinter import*\n",
    "window = Tk()\n",
    "window.title(\"Button draw\")\n",
    "window.geometry(\"360x360\")\n",
    "def onclick(button):\n",
    "    buttontext=button.cget(\"text\")\n",
    "    if(buttontext==\"red\"):\n",
    "        window.configure(background=\"red\")\n",
    "    if(buttontext==\"green\"):\n",
    "        window.configure(background=\"blue\")\n",
    "b1=Button(text=\"red\",width=13)\n",
    "b2=Button(text=\"green\",width=13)\n",
    "b3=Button(text=\"blue\",width=13)\n",
    "b4=Button(text=\"exit\",width=53,command=window.destroy())\n",
    "b1.grid(row=0,column=0)\n",
    "b2.grid(row=0,column=1)\n",
    "b3.grid(row=0,column=2)\n",
    "b4.grid(row=1,column=1) \n",
    "b1.configure(command=lambda button=b1:onclick(button))\n",
    "b2.configure(command=lambda button=b2:onclick(button))\n",
    "b3.configure(command=lambda button=b3:onclick(button))\n",
    "window.mainloop()\n"
   ]
  },
  {
   "cell_type": "code",
   "execution_count": null,
   "metadata": {},
   "outputs": [],
   "source": [
    "from tkinter import*\n",
    "wind=Tk()\n",
    "wind.title=\"hello\"\n",
    "wind.geometry('360x200')\n",
    "lbl=Label(wind,text=\"hi\")\n",
    "lbl.grid(column=0,row=0)\n",
    "txt=Entry(wind,width=70)\n",
    "txt.grid(column=1,row=0)\n",
    "def clicked():\n",
    "    res=\"welcome to python\"+txt.get()\n",
    "    lbl.configure(txt=res)\n",
    "btn=Button(wind,text=\"click me\",command=clicked)\n",
    "btn.grid(column=2,row=0)\n",
    "wind.mainloop()\n",
    "    "
   ]
  },
  {
   "cell_type": "code",
   "execution_count": null,
   "metadata": {},
   "outputs": [],
   "source": [
    "#to get message dialog\n",
    "from tkinter import*\n",
    "from tkinter import messagebox\n",
    "window=Tk()\n",
    "window.title(\"Welcome\")\n",
    "window.geometry('500x500')\n",
    "vtextuname=StringVar()\n",
    "def fnlogin():\n",
    "    num=str(vtextuname.get())\n",
    "    messagebox.showinfo(\"Login info\",'login sucessful' +\" \"+num)\n",
    "    vtextuname.set(num)\n",
    "def fncancel():\n",
    "    messagebox.showinfo(\"cancel info\",'quiting app')\n",
    "    window.destroy\n",
    "    \n",
    "lblname=Label(window,text=\"username\")\n",
    "lblname.place(x=10,y=90)\n",
    "vtxtuname=Entry(window,textvariable=vtextuname)\n",
    "lblpass=Label(window,text='password')\n",
    "chk_showpassword=BooleanVar()\n",
    "lblpass.place(x=10,y=140)\n",
    "vtxtuname.place(x=100,y=90)\n",
    "txtuname=Entry(window,textvariable=vtextuname)\n",
    "\n",
    "txtpass=Entry(window, show='*')\n",
    "txtpass.place(x=100,y=140)\n",
    "b1=Button(text='login',command=fnlogin)\n",
    "b2=Button(text='cancel',command=fncancel)\n",
    "b1.place(x=400,y=300)\n",
    "b2.place(x=400,y=400)\n",
    "window.mainloop()"
   ]
  },
  {
   "cell_type": "code",
   "execution_count": null,
   "metadata": {},
   "outputs": [],
   "source": [
    "#checkboxes\n",
    "from tkinter import *\n",
    "from tkinter import*\n",
    "window =Tk()\n",
    "window.geometry('450x600')\n",
    "chk_red=BooleanVar()\n",
    "chk_green=BooleanVar()\n",
    "def oncheckboxchanged():\n",
    "    if(chk_red.get()==True and chk_green.get()==False):\n",
    "           window.configure(background=\"red\")\n",
    "    elif(chk_red.get()==False and chk_green.get()==True):\n",
    "          window.configure(background=\"green\")\n",
    "    elif(chk_red.get()==True and chk_green.get()==True):\n",
    "          window.configure(background=\"pink\")        \n",
    "    else:\n",
    "         window.configure(background=\"yellow\")\n",
    "chk1=Checkbutton(window,text=\"RED\",var=chk_red,command=oncheckboxchanged) \n",
    "chk2=Checkbutton(window,text=\"GREEN\",var=chk_green,command=oncheckboxchanged)\n",
    "chk1.grid(column=0,row=0)\n",
    "chk2.grid(column=1,row=1)\n",
    "window.mainloop()         "
   ]
  },
  {
   "cell_type": "code",
   "execution_count": 20,
   "metadata": {},
   "outputs": [
    {
     "ename": "TclError",
     "evalue": "unknown option \"-350x300\"",
     "output_type": "error",
     "traceback": [
      "\u001b[1;31m---------------------------------------------------------------------------\u001b[0m",
      "\u001b[1;31mTclError\u001b[0m                                  Traceback (most recent call last)",
      "\u001b[1;32m<ipython-input-20-9a67f98762b8>\u001b[0m in \u001b[0;36m<module>\u001b[1;34m()\u001b[0m\n\u001b[0;32m     28\u001b[0m \u001b[1;31m#choice=size.get()\u001b[0m\u001b[1;33m\u001b[0m\u001b[1;33m\u001b[0m\u001b[0m\n\u001b[0;32m     29\u001b[0m \u001b[1;31m#if choice==1:\u001b[0m\u001b[1;33m\u001b[0m\u001b[1;33m\u001b[0m\u001b[0m\n\u001b[1;32m---> 30\u001b[1;33m \u001b[0ma\u001b[0m\u001b[1;33m.\u001b[0m\u001b[0mconfigure\u001b[0m\u001b[1;33m(\u001b[0m\u001b[1;34m\"350x300\"\u001b[0m\u001b[1;33m)\u001b[0m\u001b[1;33m\u001b[0m\u001b[0m\n\u001b[0m\u001b[0;32m     31\u001b[0m \u001b[1;31m#elif choice==2:\u001b[0m\u001b[1;33m\u001b[0m\u001b[1;33m\u001b[0m\u001b[0m\n\u001b[0;32m     32\u001b[0m    \u001b[1;31m# a.configure(\"350x200\")\u001b[0m\u001b[1;33m\u001b[0m\u001b[1;33m\u001b[0m\u001b[0m\n",
      "\u001b[1;32m~\\Anaconda3\\lib\\tkinter\\__init__.py\u001b[0m in \u001b[0;36mconfigure\u001b[1;34m(self, cnf, **kw)\u001b[0m\n\u001b[0;32m   1480\u001b[0m         \u001b[0mthe\u001b[0m \u001b[0mallowed\u001b[0m \u001b[0mkeyword\u001b[0m \u001b[0marguments\u001b[0m \u001b[0mcall\u001b[0m \u001b[0mthe\u001b[0m \u001b[0mmethod\u001b[0m \u001b[0mkeys\u001b[0m\u001b[1;33m.\u001b[0m\u001b[1;33m\u001b[0m\u001b[0m\n\u001b[0;32m   1481\u001b[0m         \"\"\"\n\u001b[1;32m-> 1482\u001b[1;33m         \u001b[1;32mreturn\u001b[0m \u001b[0mself\u001b[0m\u001b[1;33m.\u001b[0m\u001b[0m_configure\u001b[0m\u001b[1;33m(\u001b[0m\u001b[1;34m'configure'\u001b[0m\u001b[1;33m,\u001b[0m \u001b[0mcnf\u001b[0m\u001b[1;33m,\u001b[0m \u001b[0mkw\u001b[0m\u001b[1;33m)\u001b[0m\u001b[1;33m\u001b[0m\u001b[0m\n\u001b[0m\u001b[0;32m   1483\u001b[0m     \u001b[0mconfig\u001b[0m \u001b[1;33m=\u001b[0m \u001b[0mconfigure\u001b[0m\u001b[1;33m\u001b[0m\u001b[0m\n\u001b[0;32m   1484\u001b[0m     \u001b[1;32mdef\u001b[0m \u001b[0mcget\u001b[0m\u001b[1;33m(\u001b[0m\u001b[0mself\u001b[0m\u001b[1;33m,\u001b[0m \u001b[0mkey\u001b[0m\u001b[1;33m)\u001b[0m\u001b[1;33m:\u001b[0m\u001b[1;33m\u001b[0m\u001b[0m\n",
      "\u001b[1;32m~\\Anaconda3\\lib\\tkinter\\__init__.py\u001b[0m in \u001b[0;36m_configure\u001b[1;34m(self, cmd, cnf, kw)\u001b[0m\n\u001b[0;32m   1470\u001b[0m             \u001b[1;32mreturn\u001b[0m \u001b[0mself\u001b[0m\u001b[1;33m.\u001b[0m\u001b[0m_getconfigure\u001b[0m\u001b[1;33m(\u001b[0m\u001b[0m_flatten\u001b[0m\u001b[1;33m(\u001b[0m\u001b[1;33m(\u001b[0m\u001b[0mself\u001b[0m\u001b[1;33m.\u001b[0m\u001b[0m_w\u001b[0m\u001b[1;33m,\u001b[0m \u001b[0mcmd\u001b[0m\u001b[1;33m)\u001b[0m\u001b[1;33m)\u001b[0m\u001b[1;33m)\u001b[0m\u001b[1;33m\u001b[0m\u001b[0m\n\u001b[0;32m   1471\u001b[0m         \u001b[1;32mif\u001b[0m \u001b[0misinstance\u001b[0m\u001b[1;33m(\u001b[0m\u001b[0mcnf\u001b[0m\u001b[1;33m,\u001b[0m \u001b[0mstr\u001b[0m\u001b[1;33m)\u001b[0m\u001b[1;33m:\u001b[0m\u001b[1;33m\u001b[0m\u001b[0m\n\u001b[1;32m-> 1472\u001b[1;33m             \u001b[1;32mreturn\u001b[0m \u001b[0mself\u001b[0m\u001b[1;33m.\u001b[0m\u001b[0m_getconfigure1\u001b[0m\u001b[1;33m(\u001b[0m\u001b[0m_flatten\u001b[0m\u001b[1;33m(\u001b[0m\u001b[1;33m(\u001b[0m\u001b[0mself\u001b[0m\u001b[1;33m.\u001b[0m\u001b[0m_w\u001b[0m\u001b[1;33m,\u001b[0m \u001b[0mcmd\u001b[0m\u001b[1;33m,\u001b[0m \u001b[1;34m'-'\u001b[0m\u001b[1;33m+\u001b[0m\u001b[0mcnf\u001b[0m\u001b[1;33m)\u001b[0m\u001b[1;33m)\u001b[0m\u001b[1;33m)\u001b[0m\u001b[1;33m\u001b[0m\u001b[0m\n\u001b[0m\u001b[0;32m   1473\u001b[0m         \u001b[0mself\u001b[0m\u001b[1;33m.\u001b[0m\u001b[0mtk\u001b[0m\u001b[1;33m.\u001b[0m\u001b[0mcall\u001b[0m\u001b[1;33m(\u001b[0m\u001b[0m_flatten\u001b[0m\u001b[1;33m(\u001b[0m\u001b[1;33m(\u001b[0m\u001b[0mself\u001b[0m\u001b[1;33m.\u001b[0m\u001b[0m_w\u001b[0m\u001b[1;33m,\u001b[0m \u001b[0mcmd\u001b[0m\u001b[1;33m)\u001b[0m\u001b[1;33m)\u001b[0m \u001b[1;33m+\u001b[0m \u001b[0mself\u001b[0m\u001b[1;33m.\u001b[0m\u001b[0m_options\u001b[0m\u001b[1;33m(\u001b[0m\u001b[0mcnf\u001b[0m\u001b[1;33m)\u001b[0m\u001b[1;33m)\u001b[0m\u001b[1;33m\u001b[0m\u001b[0m\n\u001b[0;32m   1474\u001b[0m     \u001b[1;31m# These used to be defined in Widget:\u001b[0m\u001b[1;33m\u001b[0m\u001b[1;33m\u001b[0m\u001b[0m\n",
      "\u001b[1;32m~\\Anaconda3\\lib\\tkinter\\__init__.py\u001b[0m in \u001b[0;36m_getconfigure1\u001b[1;34m(self, *args)\u001b[0m\n\u001b[0;32m   1458\u001b[0m \u001b[1;33m\u001b[0m\u001b[0m\n\u001b[0;32m   1459\u001b[0m     \u001b[1;32mdef\u001b[0m \u001b[0m_getconfigure1\u001b[0m\u001b[1;33m(\u001b[0m\u001b[0mself\u001b[0m\u001b[1;33m,\u001b[0m \u001b[1;33m*\u001b[0m\u001b[0margs\u001b[0m\u001b[1;33m)\u001b[0m\u001b[1;33m:\u001b[0m\u001b[1;33m\u001b[0m\u001b[0m\n\u001b[1;32m-> 1460\u001b[1;33m         \u001b[0mx\u001b[0m \u001b[1;33m=\u001b[0m \u001b[0mself\u001b[0m\u001b[1;33m.\u001b[0m\u001b[0mtk\u001b[0m\u001b[1;33m.\u001b[0m\u001b[0msplitlist\u001b[0m\u001b[1;33m(\u001b[0m\u001b[0mself\u001b[0m\u001b[1;33m.\u001b[0m\u001b[0mtk\u001b[0m\u001b[1;33m.\u001b[0m\u001b[0mcall\u001b[0m\u001b[1;33m(\u001b[0m\u001b[1;33m*\u001b[0m\u001b[0margs\u001b[0m\u001b[1;33m)\u001b[0m\u001b[1;33m)\u001b[0m\u001b[1;33m\u001b[0m\u001b[0m\n\u001b[0m\u001b[0;32m   1461\u001b[0m         \u001b[1;32mreturn\u001b[0m \u001b[1;33m(\u001b[0m\u001b[0mx\u001b[0m\u001b[1;33m[\u001b[0m\u001b[1;36m0\u001b[0m\u001b[1;33m]\u001b[0m\u001b[1;33m[\u001b[0m\u001b[1;36m1\u001b[0m\u001b[1;33m:\u001b[0m\u001b[1;33m]\u001b[0m\u001b[1;33m,\u001b[0m\u001b[1;33m)\u001b[0m \u001b[1;33m+\u001b[0m \u001b[0mx\u001b[0m\u001b[1;33m[\u001b[0m\u001b[1;36m1\u001b[0m\u001b[1;33m:\u001b[0m\u001b[1;33m]\u001b[0m\u001b[1;33m\u001b[0m\u001b[0m\n\u001b[0;32m   1462\u001b[0m \u001b[1;33m\u001b[0m\u001b[0m\n",
      "\u001b[1;31mTclError\u001b[0m: unknown option \"-350x300\""
     ]
    }
   ],
   "source": [
    "#radio button\n",
    "from tkinter import *\n",
    "#from tkinter.ttk import*\n",
    "a=Tk()\n",
    "a.geometry('350x200')\n",
    "selected=IntVar()\n",
    "size=IntVar()\n",
    "def clicked():\n",
    "    choice=selected.get()\n",
    "    if choice==1:\n",
    "        a.configure(background='yellow')\n",
    "    elif choice==2:\n",
    "        a.configure(background='red')\n",
    "#def changesize():\n",
    " #   choice=size.get()\n",
    " #   if choice==1:\n",
    " #       a.configure(\"350x300\")\n",
    " #   elif choice==2:    \n",
    "  #      a.configure(\"350x200\")\n",
    "r1=Radiobutton(a,text='red',value=1,variable=selected,command=clicked) \n",
    "r2=Radiobutton(a,text='orange',value=2,variable=selected,command=clicked)\n",
    "size1=Radiobutton(a,text='big',value=1,variable=size,command=changesize)            \n",
    "size2=Radiobutton(a,text='small',value=2,variable=size,command=changesize)        \n",
    "r1.grid(column=0,row=0)\n",
    "r2.grid(column=1,row=0)\n",
    "size1.grid(column=0,row=1)\n",
    "size2.grid(column=1,row=1)\n",
    "#choice=size.get()\n",
    "#if choice==1:\n",
    "a.configure(\"350x300\")\n",
    "#elif choice==2:    \n",
    "   # a.configure(\"350x200\")\n",
    "#a.configure(350x300)\n",
    "a.mainloop()"
   ]
  },
  {
   "cell_type": "code",
   "execution_count": 8,
   "metadata": {},
   "outputs": [
    {
     "name": "stdout",
     "output_type": "stream",
     "text": [
      "ok\n",
      "ok\n"
     ]
    }
   ],
   "source": [
    "from tkinter import *\n",
    "root=Tk()\n",
    "def do():\n",
    "    print(\"ok\")\n",
    "def exit():\n",
    "    root.destroy\n",
    "#root=Tk()\n",
    "menu=Menu(root)\n",
    "root.configure(menu=menu)\n",
    "subMenu=Menu(menu)\n",
    "menu.add_cascade(label=\"file\",menu=subMenu)\n",
    "subMenu.add_command(label=\"new\",command=do)\n",
    "subMenu.add_separator()\n",
    "subMenu.add_cascade(label=\"exit\",command=exit)\n",
    "editMenu=Menu(menu)\n",
    "menu.add_cascade(label=\"edit\",menu=editMenu)\n",
    "editMenu.add_command(label=\"redo\",command=do)\n",
    "root.mainloop()"
   ]
  },
  {
   "cell_type": "code",
   "execution_count": null,
   "metadata": {},
   "outputs": [],
   "source": [
    "from tkinter import *\n",
    "root= Tk()\n",
    "chk_yes=BooleanVar()\n",
    "chk_no=BooleanVar()\n",
    "def additem():\n",
    "        print(input(\"enter item\"))\n",
    "def update():        \n",
    "    if(chk_yes.get()==True and chk_no.get()==False):\n",
    "        print(\"item updated\")\n",
    "    if(chk_yes.get()==False and chk_no.get()==True):\n",
    "        print(\"item  not updated\")\n",
    "def issue():\n",
    "    print(\"item is issued\")\n",
    "def receipt():\n",
    "    print(\"recipt given\")\n",
    "def quit():\n",
    "    root.destroy\n",
    "menu=Menu(root)\n",
    "root.configure(menu=menu)\n",
    "subMenu=Menu(menu)\n",
    "menu.add_cascade(label=\"STOCK\",menu=subMenu)\n",
    "subMenu.add_command(label=\"Add Item\",command=additem)\n",
    "subMenu.add_separator()\n",
    "menu.add_command(label=\"UPDATE\",command=update)\n",
    "TranscationMenu=Menu(menu)\n",
    "menu.add_cascade(label=\"TRANSCATION\",menu=TranscationMenu)\n",
    "TranscationMenu.add_command(label=\"ISSUE\",command=issue)\n",
    "TranscationMenu.add_separator()\n",
    "TranscationMenu.add_command(label=\"RECEIPT\",command=receipt)\n",
    "ReportMenu=Menu(menu)\n",
    "menu.add_cascade(label=\"REPORT\",menu=ReportMenu)\n",
    "ReportMenu.add_command(label=\"ALL ISSUE\",command=None)\n",
    "ReportMenu.add_command(label=\"ALL RECEIPT\",command=None)\n",
    "ReportMenu.add_command(label=\"SINGLE ITEM\",command=None)\n",
    "ExitMenu=Menu(menu)\n",
    "menu.add_cascade(label=\"EXIT\",menu=ExitMenu)\n",
    "ExitMenu.add_command(label=\"QUIT\",command=quit)\n",
    "root.mainloop()\n"
   ]
  },
  {
   "cell_type": "code",
   "execution_count": null,
   "metadata": {},
   "outputs": [],
   "source": []
  },
  {
   "cell_type": "code",
   "execution_count": null,
   "metadata": {},
   "outputs": [],
   "source": []
  },
  {
   "cell_type": "code",
   "execution_count": null,
   "metadata": {},
   "outputs": [],
   "source": []
  }
 ],
 "metadata": {
  "kernelspec": {
   "display_name": "Python 3",
   "language": "python",
   "name": "python3"
  },
  "language_info": {
   "codemirror_mode": {
    "name": "ipython",
    "version": 3
   },
   "file_extension": ".py",
   "mimetype": "text/x-python",
   "name": "python",
   "nbconvert_exporter": "python",
   "pygments_lexer": "ipython3",
   "version": "3.6.5"
  }
 },
 "nbformat": 4,
 "nbformat_minor": 2
}
