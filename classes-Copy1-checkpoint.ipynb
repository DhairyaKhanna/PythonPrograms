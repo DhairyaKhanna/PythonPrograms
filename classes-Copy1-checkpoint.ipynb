{
 "cells": [
  {
   "cell_type": "code",
   "execution_count": 1,
   "metadata": {},
   "outputs": [
    {
     "name": "stdout",
     "output_type": "stream",
     "text": [
      "dimension of square1 12\n",
      "dimension of square 2 13\n"
     ]
    }
   ],
   "source": [
    "class square:\n",
    "    pass\n",
    "square1= square()\n",
    "square1.l= 12\n",
    "square2=square()\n",
    "square2.l=13\n",
    "print(\"dimension of square1\",square1.l)\n",
    "print(\"dimension of square 2\",square2.l)"
   ]
  },
  {
   "cell_type": "code",
   "execution_count": 1,
   "metadata": {},
   "outputs": [
    {
     "name": "stdout",
     "output_type": "stream",
     "text": [
      "area is: 4\n",
      "area is: 4\n",
      "area is: 4\n",
      "enter a no3\n",
      "enter a no4\n",
      "enter a no4\n",
      "area is: 9\n",
      "area is: 16\n",
      "area is: 16\n"
     ]
    }
   ],
   "source": [
    "#constructor\n",
    "class square:\n",
    "    def __init__(self):\n",
    "        self.l=2\n",
    "    def getdata(self):\n",
    "        self.l=int(input(\"enter a no\"))\n",
    "    def area(self):\n",
    "        print(\"area is:\",(self.l**2))\n",
    "a1=square()\n",
    "a2=square()\n",
    "a3=square()\n",
    "a1.area()\n",
    "a2.area()\n",
    "a3.area()\n",
    "a1.getdata()\n",
    "a2.getdata()\n",
    "a3.getdata()\n",
    "a1.area()\n",
    "a2.area()\n",
    "a3.area()"
   ]
  },
  {
   "cell_type": "code",
   "execution_count": 2,
   "metadata": {},
   "outputs": [
    {
     "name": "stdout",
     "output_type": "stream",
     "text": [
      "area is 8\n",
      "area 2 is 10\n"
     ]
    }
   ],
   "source": [
    "class rectangle:\n",
    "    def __init__(self,x,y):\n",
    "        self.l=x\n",
    "        self.b=y\n",
    "  #  def getdata(self,l,b):\n",
    "   #     self.l=l\n",
    "    #    self.b=l\n",
    "    def ar(self):\n",
    "        return self.l*self.b\n",
    "r1=rectangle(2,4)\n",
    "print(\"area is\",r1.ar())\n",
    "r2=rectangle(2,5)\n",
    "print(\"area 2 is\",r2.ar())"
   ]
  },
  {
   "cell_type": "code",
   "execution_count": null,
   "metadata": {},
   "outputs": [],
   "source": [
    "a = int(input(\"enter:l:\"))\n",
    "b = int(input(\"enter: b:\"))\n",
    "r3 = rectangle(a,b)\n",
    "ar= r3.ar()\n",
    "print(\"area is\",ar)\n",
    "m = int(input(\"enter a no:\"))\n",
    "n = int(input(\"enter a no2:\"))\n",
    "r3.getdata(m,n)\n",
    "ar= r3.ar()\n",
    "print(ar)"
   ]
  },
  {
   "cell_type": "code",
   "execution_count": 8,
   "metadata": {},
   "outputs": [
    {
     "ename": "TypeError",
     "evalue": "getdata() missing 3 required positional arguments: 'a', 'd', and 'e'",
     "output_type": "error",
     "traceback": [
      "\u001b[1;31m---------------------------------------------------------------------------\u001b[0m",
      "\u001b[1;31mTypeError\u001b[0m                                 Traceback (most recent call last)",
      "\u001b[1;32m<ipython-input-8-d49d248006ce>\u001b[0m in \u001b[0;36m<module>\u001b[1;34m()\u001b[0m\n\u001b[0;32m     13\u001b[0m \u001b[0mc1\u001b[0m\u001b[1;33m=\u001b[0m \u001b[0mroom\u001b[0m\u001b[1;33m(\u001b[0m\u001b[1;36m2\u001b[0m\u001b[1;33m,\u001b[0m\u001b[1;36m2\u001b[0m\u001b[1;33m,\u001b[0m\u001b[1;36m3\u001b[0m\u001b[1;33m)\u001b[0m\u001b[1;33m\u001b[0m\u001b[0m\n\u001b[0;32m     14\u001b[0m \u001b[0mc2\u001b[0m\u001b[1;33m=\u001b[0m \u001b[0mroom\u001b[0m\u001b[1;33m(\u001b[0m\u001b[1;36m2\u001b[0m\u001b[1;33m,\u001b[0m\u001b[1;36m4\u001b[0m\u001b[1;33m,\u001b[0m\u001b[1;36m5\u001b[0m\u001b[1;33m)\u001b[0m\u001b[1;33m\u001b[0m\u001b[0m\n\u001b[1;32m---> 15\u001b[1;33m \u001b[0mprint\u001b[0m\u001b[1;33m(\u001b[0m\u001b[1;34m\"volume of cuboid one\"\u001b[0m\u001b[1;33m,\u001b[0m\u001b[0mc1\u001b[0m\u001b[1;33m.\u001b[0m\u001b[0mvolume\u001b[0m\u001b[1;33m(\u001b[0m\u001b[1;33m)\u001b[0m\u001b[1;33m,\u001b[0m\u001b[0mc1\u001b[0m\u001b[1;33m.\u001b[0m\u001b[0mgetdata\u001b[0m\u001b[1;33m(\u001b[0m\u001b[1;33m)\u001b[0m\u001b[1;33m)\u001b[0m\u001b[1;33m\u001b[0m\u001b[0m\n\u001b[0m",
      "\u001b[1;31mTypeError\u001b[0m: getdata() missing 3 required positional arguments: 'a', 'd', and 'e'"
     ]
    }
   ],
   "source": [
    "class room:\n",
    "    def __init__(self,m,n,o):\n",
    "        self.l=m\n",
    "        self.b=n\n",
    "        self.h=o\n",
    "    def getdata(self,a,d,e):\n",
    "        self.a=l\n",
    "        self.d=b\n",
    "        self.e=h\n",
    "        print(a,d,e)\n",
    "    def volume(self):\n",
    "        return self.l*self.b*self.h\n",
    "c1= room(2,2,3)\n",
    "c2= room(2,4,5)\n",
    "print(\"volume of cuboid one\",c1.volume(),c1.getdata())"
   ]
  },
  {
   "cell_type": "code",
   "execution_count": null,
   "metadata": {},
   "outputs": [],
   "source": [
    "class bank:\n",
    "    def __init__(self,a,b,c):#TO BE CONTINUED\n",
    "        self.accno=a\n",
    "        self.name=b\n",
    "        self.balance=c\n",
    "    def getdata(self,accno,name.balance):\n",
    "        self.accno=accno\n",
    "        self.name=name\n",
    "        self.balance=balance \n",
    "                    \n",
    "    def   "
   ]
  },
  {
   "cell_type": "code",
   "execution_count": null,
   "metadata": {},
   "outputs": [],
   "source": [
    "class circle:\n",
    "    def __init__(self,x):\n",
    "        self.r=x\n",
    "    def getdata(self,r):\n",
    "        self.r=r\n",
    "    def area(self):\n",
    "        return (self.r)**2*3.14\n",
    "    def perimeter(self):\n",
    "        return self.r*2*3.14\n",
    "    \n",
    "    \n",
    "m = int(input(\"enter 0 for area and 1 for perimter:\")) \n",
    "if m==0:\n",
    "    circle1=circle(int(input(\"enter value of radius:\")))\n",
    "    print(\"area of circle is:\",circle1.area())\n",
    "if m==1:\n",
    "    circle2=circle(int(input(\"enter value for radius:\")))\n",
    "    print(\"perimeter of circle is:\",circle2.perimeter())"
   ]
  },
  {
   "cell_type": "code",
   "execution_count": null,
   "metadata": {},
   "outputs": [],
   "source": [
    "#arrays\n",
    "class rectangle:\n",
    "    def getdata(self,l,b):\n",
    "        self.l=l\n",
    "        self.b=b\n",
    "    def area(self):\n",
    "        print(\"area is\",self.l*self.b)\n",
    "rectlist =[]\n",
    "for i in range(3):\n",
    "    r = rectangle()\n",
    "    x = int(input('enter:'))\n",
    "    y = int(input(\"enter b:\"))\n",
    "    r.getdata(x,y)\n",
    "    rectlist.append(r)\n",
    "for i in range(3):\n",
    "    rectlist[i].area()"
   ]
  },
  {
   "cell_type": "code",
   "execution_count": null,
   "metadata": {},
   "outputs": [],
   "source": [
    "class book:\n",
    "    def getdata(self,bcode,bname,rate,QOH):\n",
    "        self.bcode=bcode\n",
    "        self.bname=bname\n",
    "        self.rate=rate\n",
    "        self.QOH=QOH\n",
    "    def totalbooks(self):\n",
    "        print(\"total books are:\",self.QOH)\n",
    "f = book(123,\"abc\",340,34)\n",
    "f.totalbooks()\n",
    "#alist=[]\n",
    "#k = 0\n",
    "#for i in range(1):\n",
    " #   j = book()\n",
    "  #  x = int(input(\"enter book code:\"))\n",
    "   # y = input(\"enter book name\")\n",
    "   # z = int(input(\"rate\"))\n",
    "   # a = int(input(\"quanity\"))\n",
    "   # j.getdata(x,y,z,a)\n",
    "   # alist.append(j)\n",
    "#for i in range(1):\n",
    " #   alist[i]\n",
    "    \n",
    "   \n",
    "   "
   ]
  },
  {
   "cell_type": "markdown",
   "metadata": {},
   "source": [
    "# "
   ]
  },
  {
   "cell_type": "code",
   "execution_count": null,
   "metadata": {},
   "outputs": [],
   "source": [
    "#passing object a parameter\n",
    "class time:\n",
    "    def __init__(self,hours,minutes):\n",
    "        self.hours=hours\n",
    "        self.minutes=minutes\n",
    "    def display(self):\n",
    "        print(\"time in hrs is\",self.hours,\"time in minutes is\",self.minutes)\n",
    "    def su(self,p):\n",
    "        temp=time(0,0)\n",
    "        temp.hours=self.hours+p.hours\n",
    "        temp.minutes=self.minutes+p.minutes\n",
    "        if (temp.minutes>60):\n",
    "            temp.minutes=temp.minutes-60\n",
    "            temp.hours=temp.hours+1\n",
    "        return temp    \n",
    "t1= time(2,40)\n",
    "t2= time(3,10)\n",
    "c = time(0,0)\n",
    "c = t1.su(t2)\n",
    "c.display()\n",
    "\n",
    "\n",
    "\n"
   ]
  },
  {
   "cell_type": "code",
   "execution_count": null,
   "metadata": {},
   "outputs": [],
   "source": [
    "class number:\n",
    "    def __init__(self,x,y):\n",
    "        self.x=x\n",
    "        self.y=y\n",
    "    def display(self):\n",
    "        print(\"x is:\",self.x,\"y is\",self.y)\n",
    "    def su(self,p):\n",
    "        temp=number(0,0)\n",
    "        temp.x=self.x+p.x\n",
    "        temp.y=self.y+p.y\n",
    "        return temp\n",
    "a = number(10,20)\n",
    "b = number( 2,4)\n",
    "#c = number(0,0)\n",
    "c = number.su(a,b)\n",
    "c.display()"
   ]
  },
  {
   "cell_type": "code",
   "execution_count": null,
   "metadata": {},
   "outputs": [],
   "source": [
    "class person:\n",
    "    def __init__(self,x,y):\n",
    "        self.x=x\n",
    "        self.y=y\n",
    "    def display(self):\n",
    "        print(\"name is\",self.x,\"age is:\",self.y)\n",
    "    def greater(self,p):\n",
    "        if (p.y>self.y):\n",
    "            return p\n",
    "        else:\n",
    "            return self\n",
    "a = person(\"abc\",12)\n",
    "b = person(\"bcn\",34)\n",
    "c = a.greater(b)\n",
    "c.display()"
   ]
  },
  {
   "cell_type": "code",
   "execution_count": null,
   "metadata": {},
   "outputs": [],
   "source": [
    "class rectangle():\n",
    "    def __init__(self,x,y):\n",
    "        self.x=x\n",
    "        self.y=y\n",
    "    def display(self):\n",
    "        print(\"the rectangle is\",self.x,\"area is\",self.y)\n",
    "    def greater(self,p):\n",
    "        if (p.y>self.y):\n",
    "            return p\n",
    "        else:\n",
    "            return self\n",
    "l = int(input(\"enter l:\"))\n",
    "n = int(input(\"enter b:\"))\n",
    "k = l*n\n",
    "s = int(input(\"enter l:\"))\n",
    "d = int(input(\"enter b:\"))\n",
    "j = s*d\n",
    "a = rectangle(\"r1\",k) \n",
    "b = rectangle(\"r2\",j)\n",
    "c = a.greater(b)\n",
    "c.display()"
   ]
  },
  {
   "cell_type": "code",
   "execution_count": null,
   "metadata": {},
   "outputs": [],
   "source": [
    "class employee:\n",
    "    def __init__(self,ecode,ename,salary):\n",
    "        self.ecode=ecode\n",
    "        self.ename=ename\n",
    "        self.salary=salary\n",
    "    def putdata(self):\n",
    "        print(self.ecode,self.ename,self.salary)\n",
    "        \n",
    "class salesman(employee):\n",
    "    def __init__(self,ecode,ename,salary,comisation):\n",
    "        employee.__init__(self,ecode,ename,salary)\n",
    "        self.comisation=comisation\n",
    "    def putcomisation(self):\n",
    "        self.putdata()\n",
    "        print(\"comm is\",self.comisation)\n",
    "        print(\"total salary:\",(self.salary+self.comisation))\n",
    "s = salesman(1001,\"abc\",23000,5666)\n",
    "s.putcomisation()\n",
    "    "
   ]
  },
  {
   "cell_type": "code",
   "execution_count": null,
   "metadata": {},
   "outputs": [],
   "source": [
    "class student:\n",
    "    def __init__(self,name,rollno):\n",
    "        self.name=name\n",
    "        self.rollno=rollno\n",
    "    def putdata(self):\n",
    "        print(self.name,self.rollno)\n",
    "        \n",
    "class marks(student):\n",
    "    def __init__(self,name,rollno,m1,m2):\n",
    "        student.__init__(self,name,rollno)\n",
    "        self.m1=m1\n",
    "        self.m2=m2\n",
    "    def putmarks(self):\n",
    "        self.putdata()\n",
    "        print(\"marks 1\",self.m1)\n",
    "        print(\"marks 2\",self.m2)\n",
    "\n",
    "class total(marks):\n",
    "    def __init__(self,name,rollno,m1,m2):\n",
    "        marks.__init__(self,name,rollno,m1,m2)\n",
    "        self.totmarks= self.m1+self.m2\n",
    "        \n",
    "    def puttotl(self):\n",
    "        self.putmarks()\n",
    "        print(\"total marks\",self.totmarks)\n",
    "a = total(\"abc\",2,23,45)\n",
    "b = total(\"ram\",4,56,78)\n",
    "a.puttotl()\n",
    "b.puttotl()\n",
    "        "
   ]
  },
  {
   "cell_type": "code",
   "execution_count": null,
   "metadata": {},
   "outputs": [],
   "source": [
    "class numbers:\n",
    "    def __init__(self,a):\n",
    "        self.a=a\n",
    "    def putdata(self):\n",
    "        print(self.a)\n",
    "class square(numbers):\n",
    "    def __init__(self,a):\n",
    "        numbers.__init__(self,a)\n",
    "    def square(self):\n",
    "        s=a*a\n",
    "class cube(square):\n",
    "    def __init__(self,a):\n",
    "        square.__init__(self,a)\n",
    "    def cube(self):\n",
    "        d=s*a\n",
    "l = cube(2)\n",
    "print(l)\n",
    "        "
   ]
  },
  {
   "cell_type": "code",
   "execution_count": null,
   "metadata": {},
   "outputs": [],
   "source": [
    "class first:\n",
    "    def __init__(self,a):\n",
    "        self.a=a\n",
    "    def putfirst(self):\n",
    "        print(self.a)\n",
    "class second(first):\n",
    "    def __init__(self,a):\n",
    "        #self.a=a\n",
    "        first.__init__(self,a)\n",
    "       # self.square=0\n",
    "    def putsecond(self):\n",
    "        self.putfirst()         #yo function upar wale nu print kareve\n",
    "        self.square=self.a**2\n",
    "        print(\"square=\",self.square)\n",
    "class third(second):\n",
    "    def __init__(self,a):\n",
    "        second.__init__(self,a)\n",
    "       # self.cube=0\n",
    "    def putthird(self):\n",
    "        self.putsecond()\n",
    "        self.cube=self.square*self.a\n",
    "        print(\"cube\",self.cube)\n",
    "a = second(5)\n",
    "a.putsecond()\n",
    "        "
   ]
  },
  {
   "cell_type": "code",
   "execution_count": null,
   "metadata": {},
   "outputs": [],
   "source": [
    "class first:\n",
    "    def __init__(self,a):\n",
    "        self.a=a\n",
    "    def abc(self):\n",
    "        print(self.a)\n",
    "class second(first):\n",
    "    def __init__(self,a):\n",
    "        self.a=a\n",
    "        first.__init__(self,a)\n",
    "    def abf(self):\n",
    "        #self.abc()\n",
    "        self.square=self.a**2\n",
    "        print(\"sqyare is\",self.square)\n",
    "class third(first):\n",
    "    def __init__(self,a):\n",
    "        self.a=a\n",
    "        first.__init__(self,a)\n",
    "    def cube(self):\n",
    "        #self.abc()\n",
    "        self.cube=self.a**3\n",
    "        print(\"cube is\",self.cube)\n",
    "d = second(int(input(\"enter a no:\")))\n",
    "d.abf()\n",
    "e = third(int(input(\"enter:\")))\n",
    "e.cube()\n",
    "        \n",
    "    "
   ]
  },
  {
   "cell_type": "code",
   "execution_count": null,
   "metadata": {},
   "outputs": [],
   "source": [
    "class student:\n",
    "    def __init__(self,name,rollno):\n",
    "        self.name=name\n",
    "        self.rollno=rollno\n",
    "    def k(self):\n",
    "        print(\"name:\",self.name,\"rollno:\",self.rollno)\n",
    "class test(student):\n",
    "    def __init__(self,name,rollno,m1,m2):\n",
    "        student.__init__(self,name,rollno)\n",
    "        self.m1=m1\n",
    "        self.m2=m2\n",
    "    def l(self):\n",
    "        print(\"marks of sub 1:\",self.m1,\"marks of sub 2:\",self.m2)\n",
    "class sports:\n",
    "    def __init__(self,subname,marks):\n",
    "        self.subname=subname\n",
    "        self.marks=marks\n",
    "    def m(self):\n",
    "        print(\"subname\",self.subname,\"marks\",self.marks)\n",
    "class result(test,sports):\n",
    "    def __init__(self,name,rollno,m1,m2,subname,marks):\n",
    "        test.__init__(self,name,rollno,m1,m2)\n",
    "        sports.__init__(self,subname,marks)\n",
    "    def b(self):\n",
    "        print(\"total marks:\",(self.m1+self.m2+self.marks))\n",
    "        self.g=self.m1+self.m2+self.marks/3\n",
    "        if self.g>=66.6:\n",
    "            print(\"A GRADE\")\n",
    "        elif 50<=self.g<66:\n",
    "            print(\"B GRADE\")\n",
    "        elif self.g<50:\n",
    "            print(\"C GRADE\")\n",
    "s = result(\"RAM,\",3,int(input(\"enter m1\")),int(input(\"enter m2\")),\"PHYSICAL EDU.\",int(input(\"enter marks:\")))\n",
    "s.k()\n",
    "s.l()\n",
    "s.m()\n",
    "s.b()"
   ]
  },
  {
   "cell_type": "code",
   "execution_count": null,
   "metadata": {},
   "outputs": [],
   "source": [
    "#construtor in inheritance:\n",
    "class a:\n",
    "    def __init__(self):\n",
    "        print(\"constructor of class a\")\n",
    "\n",
    "class b(a):\n",
    "    def __init__(self):\n",
    "        a.__init__(self)\n",
    "        print(\"constructor of clas b \")\n",
    "class c(b):\n",
    "    def __init__(self):\n",
    "        b.__init__(self)\n",
    "        print(\"constructor of c\")\n",
    "bobj=b()\n",
    "cobj=c()\n",
    "print(isinstance(bobj,c))\n",
    "print(isinstance(cobj,b))      "
   ]
  },
  {
   "cell_type": "code",
   "execution_count": null,
   "metadata": {},
   "outputs": [],
   "source": [
    "import math\n",
    "class circle:\n",
    "    def __init__(self,radius):\n",
    "        self.radius=radius\n",
    "        \n",
    "    def setRadius(self,radius):\n",
    "        self.radius=radius\n",
    "        \n",
    "    def area(self):\n",
    "        return 3.14*self.radius**2\n",
    "    def add(self,anothercircle):\n",
    "        self.anothercircle=anothercircle\n",
    "        return circle(self.radius+self.anothercircle)\n",
    "    def gt(self,anothercircle):\n",
    "        return self.radius>self.anothercircle\n",
    "    def lt(self,anothercircle):\n",
    "        return self.anothercircle>self.radius\n",
    "c1=circle(3)\n",
    "c2=circle(4)\n",
    "    "
   ]
  },
  {
   "cell_type": "code",
   "execution_count": null,
   "metadata": {},
   "outputs": [],
   "source": [
    "class person:\n",
    "    def __init__(self,first,last,age):\n",
    "        self.first=first\n",
    "        self.last=last\n",
    "        self.age=age\n",
    "    def __str__(self):\n",
    "        return self.first+\" \"+self.last+\",\"+str(self.age)\n",
    "class employee(person):\n",
    "    def __init__(self,first,last,age,staffname):\n",
    "        person.__init__(self,first,last,age)\n",
    "        self.staffname=staffname\n",
    "def __str__(self):\n",
    "    return employee.__str__()+','+self.staffname\n",
    "p = person(\"Aman\",\"singal\",34)\n",
    "e = employee(\"Jatin\",\"verma\",23,\"1001\")\n",
    "print(p)\n",
    "print(e)"
   ]
  },
  {
   "cell_type": "code",
   "execution_count": null,
   "metadata": {},
   "outputs": [],
   "source": [
    "class sample:\n",
    "    ctr = 5\n",
    "    def __init__(self,num):\n",
    "        self.num=num\n",
    "print(sample.ctr)\n",
    "s = sample(50)\n",
    "print(s.num)\n",
    "print(s.ctr)\n",
    "#print(dir(sample))\n",
    "p = sample(45)\n",
    "print(p.num)\n",
    "print(p.__dict__)\n",
    "s.ctr=43\n",
    "print(s.ctr)\n",
    "print(p.ctr)\n",
    "sample.ctr=56\n",
    "print(sample.ctr)"
   ]
  },
  {
   "cell_type": "code",
   "execution_count": 3,
   "metadata": {
    "scrolled": false
   },
   "outputs": [
    {
     "name": "stdout",
     "output_type": "stream",
     "text": [
      "ecode: 1001 salary: 40000\n",
      "ecode: 1002 salary: 45000\n",
      "total salary= 42000.0\n",
      "total salary= 47250.0\n"
     ]
    }
   ],
   "source": [
    "class employee:\n",
    "    incpr=0.05\n",
    "    def __init__(self,ecode,salary):\n",
    "        self.ecode=ecode\n",
    "        self.salary=salary\n",
    "    def a(self):\n",
    "        print(\"ecode:\",self.ecode,\"salary:\",self.salary)\n",
    "    def add(self):\n",
    "        print(\"total salary=\",(self.salary*self.incpr)+self.salary)\n",
    "        \n",
    "e=employee(1001,40000)\n",
    "k=employee(1002,45000)\n",
    "e.a()\n",
    "k.a()\n",
    "e.add()\n",
    "k.add()               #errororororor\n",
    "\n",
    "\n",
    "        "
   ]
  },
  {
   "cell_type": "code",
   "execution_count": 12,
   "metadata": {},
   "outputs": [
    {
     "name": "stdout",
     "output_type": "stream",
     "text": [
      "200\n",
      "{'b': 20, 'area': 200}\n"
     ]
    }
   ],
   "source": [
    "class room:\n",
    "    pass\n",
    "r=room()\n",
    "r.l=10\n",
    "r.b=20\n",
    "r.area=r.l*r.b\n",
    "#print(r.area)\n",
    "del r.l\n",
    "print(r.__dict__)"
   ]
  },
  {
   "cell_type": "code",
   "execution_count": null,
   "metadata": {},
   "outputs": [],
   "source": []
  },
  {
   "cell_type": "code",
   "execution_count": 29,
   "metadata": {},
   "outputs": [
    {
     "data": {
      "text/plain": [
       "(67, 12)"
      ]
     },
     "execution_count": 29,
     "metadata": {},
     "output_type": "execute_result"
    }
   ],
   "source": [
    "class number:\n",
    "    def __init__(self,a,b):\n",
    "        self.a=a\n",
    "        self.b=b\n",
    "    def swap(self):\n",
    "        self.a,self.b=self.b,self.a\n",
    "        return self.a,self.b\n",
    "d=number(12,67)\n",
    "d.swap()\n",
    "        "
   ]
  },
  {
   "cell_type": "code",
   "execution_count": 32,
   "metadata": {},
   "outputs": [
    {
     "name": "stdout",
     "output_type": "stream",
     "text": [
      "display of alpha\n"
     ]
    }
   ],
   "source": [
    "class alpha:\n",
    "    def dis():\n",
    "        print(\"display of alpha\")\n",
    "class beta:\n",
    "    def dis():\n",
    "        print(\"display of beta\")\n",
    "class gamma(alpha,beta):\n",
    "    def show():\n",
    "        print(\"display for gamma\")\n",
    "gamma.dis()        \n",
    "        \n",
    "                "
   ]
  },
  {
   "cell_type": "code",
   "execution_count": 39,
   "metadata": {},
   "outputs": [
    {
     "name": "stdout",
     "output_type": "stream",
     "text": [
      "display of beta\n",
      "display for acc\n"
     ]
    }
   ],
   "source": [
    "class alpha:\n",
    "    def disa():\n",
    "        print(\"display of alpha\")\n",
    "class beta(alpha):\n",
    "    def disb():\n",
    "        print(\"display of beta\")\n",
    "class gamma(alpha):\n",
    "    def show():\n",
    "        print(\"display for gamma\")\n",
    "class delta(beta,gamma):\n",
    "    def show():\n",
    "        print(\"display for acc\")\n",
    "delta.disb()\n",
    "delta.show()\n"
   ]
  },
  {
   "cell_type": "code",
   "execution_count": null,
   "metadata": {},
   "outputs": [],
   "source": []
  },
  {
   "cell_type": "code",
   "execution_count": null,
   "metadata": {},
   "outputs": [],
   "source": []
  }
 ],
 "metadata": {
  "kernelspec": {
   "display_name": "Python 3",
   "language": "python",
   "name": "python3"
  },
  "language_info": {
   "codemirror_mode": {
    "name": "ipython",
    "version": 3
   },
   "file_extension": ".py",
   "mimetype": "text/x-python",
   "name": "python",
   "nbconvert_exporter": "python",
   "pygments_lexer": "ipython3",
   "version": "3.6.5"
  }
 },
 "nbformat": 4,
 "nbformat_minor": 2
}
