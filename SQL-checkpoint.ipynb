{
 "cells": [
  {
   "cell_type": "code",
   "execution_count": 1,
   "metadata": {},
   "outputs": [
    {
     "name": "stdout",
     "output_type": "stream",
     "text": [
      "[]\n",
      "username password\n"
     ]
    }
   ],
   "source": [
    "import sqlite3\n",
    "sqlite_file='inventory.sqlite'\n",
    "conn=sqlite3.connect(sqlite_file)\n",
    "c=conn.cursor()\n",
    "c.execute(\"select * from tbllogin\")\n",
    "#c.execute('insert into tbllogin(name,age),value(?,?)',(uname,age))\n",
    "data=c.fetchall()\n",
    "print(data)\n",
    "print('username password')\n",
    "for row in c.fetchall():\n",
    "    print(row[0],ro[1])\n",
    "conn.commit()\n",
    "conn.close()"
   ]
  },
  {
   "cell_type": "code",
   "execution_count": 5,
   "metadata": {},
   "outputs": [],
   "source": [
    "import sqlite3\n",
    "sqlite_file='inventory.sqlite'\n",
    "conn=sqlite3.connect(sqlite_file)\n",
    "c=conn.cursor()\n",
    "uname='dhairya'\n",
    "pwd='khanna'\n",
    "c.execute('insert into tbllogin(username,password) values(?,?)',(uname,pwd))\n",
    "#c.execute('insert into emp(ecode)values(\"+str(ec)+\")')\n",
    "conn.commit()\n",
    "conn.close()\n"
   ]
  },
  {
   "cell_type": "code",
   "execution_count": 21,
   "metadata": {},
   "outputs": [],
   "source": [
    "import sqlite3\n",
    "sqlite_file='inventory.sqlite'\n",
    "conn=sqlite3.connect(sqlite_file)\n",
    "c=conn.cursor()\n",
    "uname='dhairya'\n",
    "pwd='khanna'\n",
    "uname1='mno'\n",
    "pwd1='lmn'\n",
    "c.execute(\"update tbllogin set username=(?)where username=(?)\",(uname1,uname))\n",
    "conn.commit()\n",
    "conn.close()\n"
   ]
  },
  {
   "cell_type": "code",
   "execution_count": 8,
   "metadata": {},
   "outputs": [],
   "source": [
    "import sqlite3\n",
    "sqlite_file='inventory.sqlite'\n",
    "conn=sqlite3.connect(sqlite_file)\n",
    "c=conn.cursor()\n",
    "uname1='mno'\n",
    "pwd1='lmn'\n",
    "c.execute(\"delete from tbllogin where username=(?) and password=(?)\",(uname1,pwd1))\n",
    "conn.commit()\n",
    "conn.close()\n"
   ]
  },
  {
   "cell_type": "code",
   "execution_count": null,
   "metadata": {},
   "outputs": [],
   "source": []
  }
 ],
 "metadata": {
  "kernelspec": {
   "display_name": "Python 3",
   "language": "python",
   "name": "python3"
  },
  "language_info": {
   "codemirror_mode": {
    "name": "ipython",
    "version": 3
   },
   "file_extension": ".py",
   "mimetype": "text/x-python",
   "name": "python",
   "nbconvert_exporter": "python",
   "pygments_lexer": "ipython3",
   "version": "3.6.5"
  }
 },
 "nbformat": 4,
 "nbformat_minor": 2
}
