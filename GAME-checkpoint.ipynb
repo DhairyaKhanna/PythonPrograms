{
 "cells": [
  {
   "cell_type": "code",
   "execution_count": 1,
   "metadata": {},
   "outputs": [
    {
     "name": "stdout",
     "output_type": "stream",
     "text": [
      "10\n",
      "30\n",
      "50\n"
     ]
    }
   ],
   "source": [
    "l = [10,30,50]\n",
    "for i in l:\n",
    "    print(i)"
   ]
  },
  {
   "cell_type": "code",
   "execution_count": 4,
   "metadata": {},
   "outputs": [
    {
     "name": "stdout",
     "output_type": "stream",
     "text": [
      "3\n",
      "5\n",
      "6\n",
      "9\n",
      "10\n",
      "12\n",
      "15\n",
      "18\n",
      "20\n",
      "21\n",
      "24\n",
      "25\n",
      "27\n",
      "30\n",
      "33\n",
      "35\n",
      "36\n",
      "39\n",
      "40\n",
      "42\n",
      "45\n",
      "48\n",
      "50\n",
      "51\n",
      "54\n",
      "55\n",
      "57\n",
      "60\n",
      "63\n",
      "65\n",
      "66\n",
      "69\n",
      "70\n",
      "72\n",
      "75\n",
      "78\n",
      "80\n",
      "81\n",
      "84\n",
      "85\n",
      "87\n",
      "90\n",
      "93\n",
      "95\n",
      "96\n",
      "99\n",
      "2318\n"
     ]
    }
   ],
   "source": [
    "#SUM OF MULTIPLES OF 3,5\n",
    "l = range(1,100)\n",
    "total = 0\n",
    "total2 = 0\n",
    "for i in l:\n",
    "    if(i%3==0):\n",
    "        print(i)\n",
    "        total = total+i\n",
    "    elif(i%5==0):\n",
    "        print(i)\n",
    "        total2 = total2+i\n",
    "total3=total+total2\n",
    "print(total3)\n",
    "        \n",
    "        "
   ]
  },
  {
   "cell_type": "code",
   "execution_count": null,
   "metadata": {},
   "outputs": [],
   "source": []
  },
  {
   "cell_type": "code",
   "execution_count": 8,
   "metadata": {},
   "outputs": [
    {
     "name": "stdout",
     "output_type": "stream",
     "text": [
      "0\n",
      "2\n",
      "5\n",
      "9\n",
      "14\n",
      "20\n",
      "27\n",
      "35\n",
      "44\n"
     ]
    }
   ],
   "source": [
    "\n",
    "l = range(1,10)\n",
    "sum = 0\n",
    "for i in l:\n",
    "    print(sum)\n",
    "    sum = sum+i+1"
   ]
  },
  {
   "cell_type": "code",
   "execution_count": 2,
   "metadata": {},
   "outputs": [
    {
     "name": "stdout",
     "output_type": "stream",
     "text": [
      "hello\n",
      "Player1 random no: 5\n",
      "Player2 random no: 5\n",
      "Player1 random no: 5\n",
      "player 1 wins\n"
     ]
    }
   ],
   "source": [
    "print(\"hello\")\n",
    "import random\n",
    "total1 = 0\n",
    "total2 = 0\n",
    "flag=1\n",
    "while 1:\n",
    "    a = random.randint(1,6)\n",
    "    if flag==1:\n",
    "        print( \"Player1 random no:\",a)\n",
    "        total1 = total1+a\n",
    "        if(total1>=10):\n",
    "            print(\"player 1 wins\")\n",
    "            break\n",
    "        flag=2\n",
    "    elif flag==2:\n",
    "        print(\"Player2 random no:\",a)\n",
    "        total2+=a\n",
    "        if(total2>=10):\n",
    "            print(\"player 2 wins\")\n",
    "            break\n",
    "        flag=1\n"
   ]
  },
  {
   "cell_type": "code",
   "execution_count": 3,
   "metadata": {},
   "outputs": [],
   "source": [
    "sum = 0\n",
    "i = 0\n",
    "while i>=5:\n",
    "    sum = sum+i\n",
    "    i = i+1\n",
    "    print(i)"
   ]
  },
  {
   "cell_type": "code",
   "execution_count": 4,
   "metadata": {},
   "outputs": [],
   "source": [
    "sum = 0\n",
    "i = 0\n",
    "while i>=10:\n",
    "    sum = sum+i\n",
    "    print(sum)"
   ]
  },
  {
   "cell_type": "code",
   "execution_count": 1,
   "metadata": {},
   "outputs": [
    {
     "ename": "IndentationError",
     "evalue": "unexpected indent (<ipython-input-1-f97e3949eb04>, line 2)",
     "output_type": "error",
     "traceback": [
      "\u001b[1;36m  File \u001b[1;32m\"<ipython-input-1-f97e3949eb04>\"\u001b[1;36m, line \u001b[1;32m2\u001b[0m\n\u001b[1;33m    if(3<a<3):\u001b[0m\n\u001b[1;37m    ^\u001b[0m\n\u001b[1;31mIndentationError\u001b[0m\u001b[1;31m:\u001b[0m unexpected indent\n"
     ]
    }
   ],
   "source": [
    "a = int(input(\"enter a no:\"))\n",
    "    if( 3<a<3):\n",
    "        print(\"no\")\n",
    "    b = int(input(\"enter a no again\"))\n",
    "    \n",
    "    if(b==3):\n",
    "        print(\"you won\")\n",
    "    \n",
    "        \n",
    "    \n"
   ]
  },
  {
   "cell_type": "code",
   "execution_count": null,
   "metadata": {},
   "outputs": [],
   "source": [
    "import random\n",
    "a = random.randint(1,50)\n",
    "while 1:\n",
    "    if(a==23):\n",
    "        print(\"you win\")\n",
    "        else\n",
    "        "
   ]
  }
 ],
 "metadata": {
  "kernelspec": {
   "display_name": "Python 3",
   "language": "python",
   "name": "python3"
  },
  "language_info": {
   "codemirror_mode": {
    "name": "ipython",
    "version": 3
   },
   "file_extension": ".py",
   "mimetype": "text/x-python",
   "name": "python",
   "nbconvert_exporter": "python",
   "pygments_lexer": "ipython3",
   "version": "3.6.5"
  }
 },
 "nbformat": 4,
 "nbformat_minor": 2
}
