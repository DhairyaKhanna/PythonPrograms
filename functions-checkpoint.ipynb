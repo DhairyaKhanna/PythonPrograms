{
 "cells": [
  {
   "cell_type": "code",
   "execution_count": null,
   "metadata": {},
   "outputs": [],
   "source": [
    "#to print 4th power of a no:\n",
    "def fourth(n):\n",
    "    f = n**4\n",
    "    print(\"fourth power of no is\",f)\n",
    "n = int(input(\"enter\"))\n",
    "fourth(n)\n",
    "print(\"hi\")\n"
   ]
  },
  {
   "cell_type": "code",
   "execution_count": 8,
   "metadata": {},
   "outputs": [
    {
     "name": "stdout",
     "output_type": "stream",
     "text": [
      "3.0\n"
     ]
    }
   ],
   "source": [
    "def add(x,y=6):\n",
    "    c = x/y\n",
    "    c=round(x/y,2)\n",
    "    print(c)#retun c = print(c)\n",
    "add(6,2)"
   ]
  },
  {
   "cell_type": "code",
   "execution_count": 2,
   "metadata": {},
   "outputs": [
    {
     "data": {
      "text/plain": [
       "2.0"
      ]
     },
     "execution_count": 2,
     "metadata": {},
     "output_type": "execute_result"
    }
   ],
   "source": [
    "def s(p=200,r=1,t=1):\n",
    "    ans = p*r*t/100\n",
    "    return ans \n",
    "s()"
   ]
  },
  {
   "cell_type": "code",
   "execution_count": 4,
   "metadata": {},
   "outputs": [
    {
     "name": "stdout",
     "output_type": "stream",
     "text": [
      "6\n",
      "68\n",
      "108\n"
     ]
    }
   ],
   "source": [
    "def we(*t): #*t is so that we can add as many values in tuple like(1,2,3)\n",
    "    sum = 0\n",
    "    for i in t:\n",
    "        sum = sum+i\n",
    "    return sum\n",
    "print(we(1,2,3))\n",
    "print(we(12,56))\n",
    "print(we(12,44,52))"
   ]
  },
  {
   "cell_type": "code",
   "execution_count": 5,
   "metadata": {},
   "outputs": [
    {
     "name": "stdout",
     "output_type": "stream",
     "text": [
      "ecode: 1001\n",
      "ename: ram\n",
      "salary : 2000\n",
      "ecode: 1002\n",
      "ename: sam\n",
      "dept : sales\n",
      "designation : manager\n"
     ]
    }
   ],
   "source": [
    "def pdet(ecode,ename,**dict):\n",
    "    print(\"ecode:\",ecode)               #quargs(variable length(like-pdet))\n",
    "    print(\"ename:\",ename)\n",
    "    for key,value in dict.items():\n",
    "        print(key,':',value)\n",
    "pdet(1001,\"ram\",salary=2000)\n",
    "pdet(1002,\"sam\",dept=\"sales\",designation=\"manager\")"
   ]
  },
  {
   "cell_type": "code",
   "execution_count": 16,
   "metadata": {},
   "outputs": [
    {
     "ename": "UnboundLocalError",
     "evalue": "local variable 'result' referenced before assignment",
     "output_type": "error",
     "traceback": [
      "\u001b[1;31m---------------------------------------------------------------------------\u001b[0m",
      "\u001b[1;31mUnboundLocalError\u001b[0m                         Traceback (most recent call last)",
      "\u001b[1;32m<ipython-input-16-1d1d35c116dc>\u001b[0m in \u001b[0;36m<module>\u001b[1;34m()\u001b[0m\n\u001b[0;32m      7\u001b[0m         \u001b[0mresult\u001b[0m\u001b[1;33m=\u001b[0m\u001b[0mresult\u001b[0m\u001b[1;33m+\u001b[0m\u001b[0mi\u001b[0m\u001b[1;33m\u001b[0m\u001b[0m\n\u001b[0;32m      8\u001b[0m     \u001b[1;32mreturn\u001b[0m \u001b[0mresult\u001b[0m\u001b[1;33m\u001b[0m\u001b[0m\n\u001b[1;32m----> 9\u001b[1;33m \u001b[0mprint\u001b[0m\u001b[1;33m(\u001b[0m\u001b[0mabc\u001b[0m\u001b[1;33m(\u001b[0m\u001b[1;34m'int'\u001b[0m\u001b[1;33m,\u001b[0m\u001b[1;36m3\u001b[0m\u001b[1;33m,\u001b[0m\u001b[1;36m4\u001b[0m\u001b[1;33m)\u001b[0m\u001b[1;33m)\u001b[0m\u001b[1;33m\u001b[0m\u001b[0m\n\u001b[0m\u001b[0;32m     10\u001b[0m \u001b[0mprint\u001b[0m\u001b[1;33m(\u001b[0m\u001b[0mabc\u001b[0m\u001b[1;33m(\u001b[0m\u001b[1;34m'str'\u001b[0m\u001b[1;33m,\u001b[0m\u001b[1;34m'ho'\u001b[0m\u001b[1;33m,\u001b[0m\u001b[1;34m'nest'\u001b[0m\u001b[1;33m)\u001b[0m\u001b[1;33m)\u001b[0m\u001b[1;33m\u001b[0m\u001b[0m\n",
      "\u001b[1;32m<ipython-input-16-1d1d35c116dc>\u001b[0m in \u001b[0;36mabc\u001b[1;34m(i, *a)\u001b[0m\n\u001b[0;32m      5\u001b[0m         \u001b[0mresult\u001b[0m\u001b[1;33m=\u001b[0m\u001b[1;34m''\u001b[0m\u001b[1;33m\u001b[0m\u001b[0m\n\u001b[0;32m      6\u001b[0m     \u001b[1;32mfor\u001b[0m \u001b[0mi\u001b[0m \u001b[1;32min\u001b[0m \u001b[0ma\u001b[0m\u001b[1;33m:\u001b[0m\u001b[1;33m\u001b[0m\u001b[0m\n\u001b[1;32m----> 7\u001b[1;33m         \u001b[0mresult\u001b[0m\u001b[1;33m=\u001b[0m\u001b[0mresult\u001b[0m\u001b[1;33m+\u001b[0m\u001b[0mi\u001b[0m\u001b[1;33m\u001b[0m\u001b[0m\n\u001b[0m\u001b[0;32m      8\u001b[0m     \u001b[1;32mreturn\u001b[0m \u001b[0mresult\u001b[0m\u001b[1;33m\u001b[0m\u001b[0m\n\u001b[0;32m      9\u001b[0m \u001b[0mprint\u001b[0m\u001b[1;33m(\u001b[0m\u001b[0mabc\u001b[0m\u001b[1;33m(\u001b[0m\u001b[1;34m'int'\u001b[0m\u001b[1;33m,\u001b[0m\u001b[1;36m3\u001b[0m\u001b[1;33m,\u001b[0m\u001b[1;36m4\u001b[0m\u001b[1;33m)\u001b[0m\u001b[1;33m)\u001b[0m\u001b[1;33m\u001b[0m\u001b[0m\n",
      "\u001b[1;31mUnboundLocalError\u001b[0m: local variable 'result' referenced before assignment"
     ]
    }
   ],
   "source": [
    "def abc(i,*a):\n",
    "    if i==int:\n",
    "        result=result+i\n",
    "    if i==str:\n",
    "        result=''\n",
    "    for i in a:\n",
    "        result=result+i\n",
    "    return result\n",
    "print(abc('int',3,4))\n",
    "print(abc('str','ho','nest'))"
   ]
  },
  {
   "cell_type": "code",
   "execution_count": 1,
   "metadata": {},
   "outputs": [
    {
     "name": "stdout",
     "output_type": "stream",
     "text": [
      "4\n"
     ]
    }
   ],
   "source": [
    "def stradd(str1,str2):\n",
    "    str3 = str1+str2\n",
    "    return str3\n",
    "print(stradd(1,3))    \n",
    "\n",
    "    "
   ]
  },
  {
   "cell_type": "code",
   "execution_count": 14,
   "metadata": {},
   "outputs": [
    {
     "ename": "SyntaxError",
     "evalue": "invalid syntax (<ipython-input-14-e6e1827f24bd>, line 1)",
     "output_type": "error",
     "traceback": [
      "\u001b[1;36m  File \u001b[1;32m\"<ipython-input-14-e6e1827f24bd>\"\u001b[1;36m, line \u001b[1;32m1\u001b[0m\n\u001b[1;33m    def dig({x:a,y:b,z:c}):\u001b[0m\n\u001b[1;37m            ^\u001b[0m\n\u001b[1;31mSyntaxError\u001b[0m\u001b[1;31m:\u001b[0m invalid syntax\n"
     ]
    }
   ],
   "source": []
  },
  {
   "cell_type": "code",
   "execution_count": 14,
   "metadata": {},
   "outputs": [
    {
     "name": "stdout",
     "output_type": "stream",
     "text": [
      "9 4 3\n",
      "None\n"
     ]
    }
   ],
   "source": [
    "def sort(x,y,z):\n",
    "    if x>y and y>z:\n",
    "        print(x,y,z)\n",
    "    elif x>z and z>y:\n",
    "        print(x,z,y)\n",
    "    elif y>x and x>z:\n",
    "        print(y,x,z)\n",
    "    elif y>z and z>x:\n",
    "        print(y,z,x)\n",
    "    elif z>x and x>y:\n",
    "        print(z,x,y)\n",
    "    elif z>y and y>x:\n",
    "        print(z,y,x)\n",
    "print(sort(3,4,9))"
   ]
  },
  {
   "cell_type": "code",
   "execution_count": 11,
   "metadata": {},
   "outputs": [
    {
     "name": "stdout",
     "output_type": "stream",
     "text": [
      "(4, 2)\n"
     ]
    }
   ],
   "source": [
    "def swap(x,y):\n",
    "    x,y=y,x\n",
    "    return (x,y)\n",
    "print(swap(2,4))"
   ]
  },
  {
   "cell_type": "code",
   "execution_count": 21,
   "metadata": {},
   "outputs": [
    {
     "ename": "SyntaxError",
     "evalue": "invalid syntax (<ipython-input-21-d2f226f747c3>, line 6)",
     "output_type": "error",
     "traceback": [
      "\u001b[1;36m  File \u001b[1;32m\"<ipython-input-21-d2f226f747c3>\"\u001b[1;36m, line \u001b[1;32m6\u001b[0m\n\u001b[1;33m    (for x in values)])\u001b[0m\n\u001b[1;37m       ^\u001b[0m\n\u001b[1;31mSyntaxError\u001b[0m\u001b[1;31m:\u001b[0m invalid syntax\n"
     ]
    }
   ],
   "source": [
    "def log(message,*values):\n",
    "    if not values:\n",
    "        print(message)\n",
    "    else:\n",
    "        value_str=','.join([str(x),'+','*', \n",
    "                            (for x in values)])\n",
    "        print('%s:%s'% (message,value_str))\n",
    "log(\"my nos are:\",1,2)        "
   ]
  },
  {
   "cell_type": "code",
   "execution_count": null,
   "metadata": {},
   "outputs": [],
   "source": []
  }
 ],
 "metadata": {
  "kernelspec": {
   "display_name": "Python 3",
   "language": "python",
   "name": "python3"
  },
  "language_info": {
   "codemirror_mode": {
    "name": "ipython",
    "version": 3
   },
   "file_extension": ".py",
   "mimetype": "text/x-python",
   "name": "python",
   "nbconvert_exporter": "python",
   "pygments_lexer": "ipython3",
   "version": "3.6.5"
  }
 },
 "nbformat": 4,
 "nbformat_minor": 2
}
