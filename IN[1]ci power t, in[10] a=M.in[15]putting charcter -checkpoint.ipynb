{
 "cells": [
  {
   "cell_type": "code",
   "execution_count": 17,
   "metadata": {},
   "outputs": [
    {
     "name": "stdout",
     "output_type": "stream",
     "text": [
      "37\n"
     ]
    }
   ],
   "source": [
    "if( 't' in ['a','e','i']):\n",
    "    g = 10\n",
    "    h = 12\n",
    "    c = g/h\n",
    "    print(c)\n",
    "else:\n",
    "    j = 14\n",
    "    f = 23\n",
    "    y = j+f\n",
    "    print(y)"
   ]
  },
  {
   "cell_type": "code",
   "execution_count": 11,
   "metadata": {},
   "outputs": [
    {
     "name": "stdout",
     "output_type": "stream",
     "text": [
      "d\n"
     ]
    }
   ],
   "source": [
    "print(\"d\")"
   ]
  },
  {
   "cell_type": "code",
   "execution_count": 15,
   "metadata": {},
   "outputs": [
    {
     "name": "stdout",
     "output_type": "stream",
     "text": [
      "yes\n"
     ]
    }
   ],
   "source": [
    "if( 'a' in ['a','e']):\n",
    "    print(\"yes\")"
   ]
  },
  {
   "cell_type": "code",
   "execution_count": 19,
   "metadata": {},
   "outputs": [
    {
     "name": "stdout",
     "output_type": "stream",
     "text": [
      "no\n"
     ]
    }
   ],
   "source": [
    "a = 10\n",
    "b = 20\n",
    "if(a is b):\n",
    "    print(\"yes\")\n",
    "else:\n",
    "    print(\"no\")"
   ]
  },
  {
   "cell_type": "code",
   "execution_count": null,
   "metadata": {},
   "outputs": [],
   "source": [
    "name = input(\"name:\")\n",
    "age = input(\"age:\")\n",
    "print(\"name of person\",name, \"age\",age)"
   ]
  },
  {
   "cell_type": "code",
   "execution_count": 2,
   "metadata": {},
   "outputs": [
    {
     "name": "stdout",
     "output_type": "stream",
     "text": [
      "hi\n"
     ]
    }
   ],
   "source": [
    "print(\"hi\")"
   ]
  },
  {
   "cell_type": "code",
   "execution_count": 3,
   "metadata": {},
   "outputs": [
    {
     "name": "stdout",
     "output_type": "stream",
     "text": [
      "enter first no1\n",
      "enter second no3\n",
      "-2\n"
     ]
    }
   ],
   "source": [
    "a = int(input(\"enter first no\"))\n",
    "b = int(input(\"enter second no\"))\n",
    "c = a+b\n",
    "d = a-b        \n",
    "if(c>10):\n",
    "        print(c)\n",
    "else:\n",
    "        print(d)"
   ]
  },
  {
   "cell_type": "code",
   "execution_count": 4,
   "metadata": {},
   "outputs": [
    {
     "name": "stdout",
     "output_type": "stream",
     "text": [
      "enter radius3\n",
      "28.26\n"
     ]
    }
   ],
   "source": [
    "n = float(input(\"enter radius\"))\n",
    "area =3.14*n**2\n",
    "print(area)"
   ]
  },
  {
   "cell_type": "code",
   "execution_count": 1,
   "metadata": {},
   "outputs": [
    {
     "name": "stdout",
     "output_type": "stream",
     "text": [
      "p1200\n",
      "r3\n",
      "t4\n",
      "144.0\n"
     ]
    }
   ],
   "source": [
    "p = int(input(\"p\"))\n",
    "r = int(input(\"r\"))\n",
    "t = int(input(\"t\"))\n",
    "si =p*r*t/100\n",
    "print(si)"
   ]
  },
  {
   "cell_type": "markdown",
   "metadata": {},
   "source": []
  },
  {
   "cell_type": "code",
   "execution_count": 4,
   "metadata": {},
   "outputs": [
    {
     "name": "stdout",
     "output_type": "stream",
     "text": [
      "unit1:23\n",
      "unit 2:34\n",
      "bill 88\n"
     ]
    }
   ],
   "source": [
    "ini =int(input(\"unit1:\"))\n",
    "fin = int(input(\"unit 2:\"))\n",
    "consumed = fin-ini\n",
    "bill = 8*consumed\n",
    "print(\"bill\",bill)"
   ]
  },
  {
   "cell_type": "code",
   "execution_count": 5,
   "metadata": {},
   "outputs": [
    {
     "name": "stdout",
     "output_type": "stream",
     "text": [
      "a:1000\n",
      "r:2\n",
      "y:100\n",
      "k:1\n",
      "1020.0\n"
     ]
    }
   ],
   "source": [
    "\n",
    "p =int(input(\"a:\"))\n",
    "r =int(input(\"r:\"))\n",
    "n = int(input(\"y:\"))\n",
    "t = int(input(\"k:\"))\n",
    "ci = p*(1+r/n)**t\n",
    "print(ci)"
   ]
  },
  {
   "cell_type": "code",
   "execution_count": 2,
   "metadata": {},
   "outputs": [
    {
     "name": "stdout",
     "output_type": "stream",
     "text": [
      "Ist no23\n",
      "no is odd\n"
     ]
    }
   ],
   "source": [
    "n =int(input(\"Ist no\"))\n",
    "if(n%2==0):\n",
    "    print(\"no is even\")\n",
    "else:\n",
    "    print(\"no is odd\")\n",
    "    "
   ]
  },
  {
   "cell_type": "code",
   "execution_count": 5,
   "metadata": {},
   "outputs": [
    {
     "name": "stdout",
     "output_type": "stream",
     "text": [
      "enter person salary5000\n",
      "5500.0\n"
     ]
    }
   ],
   "source": [
    "n = int(input(\"enter person salary\"))\n",
    "if(n>=3000):\n",
    "    bonus = 0.10*n\n",
    "    total = n+bonus\n",
    "    print(total)\n",
    "else:\n",
    "    bonus = 0.05*n\n",
    "    total = n+bonus\n",
    "    print(total)"
   ]
  },
  {
   "cell_type": "code",
   "execution_count": 4,
   "metadata": {},
   "outputs": [
    {
     "name": "stdout",
     "output_type": "stream",
     "text": [
      "enter:M\n",
      "hello sir\n"
     ]
    }
   ],
   "source": [
    "a = input(\"enter:\")\n",
    "if(a == \"M\"):\n",
    "    print(\"hello sir\")\n",
    "else: \n",
    "    print(\"hello mam\")"
   ]
  },
  {
   "cell_type": "code",
   "execution_count": 15,
   "metadata": {},
   "outputs": [
    {
     "name": "stdout",
     "output_type": "stream",
     "text": [
      "Ist unit50\n",
      "2nd unit98\n",
      "264.0\n"
     ]
    }
   ],
   "source": [
    "n = int(input(\"Ist unit\"))\n",
    "m = int(input(\"2nd unit\"))\n",
    "counted = m-n\n",
    "if(counted>=45 ):\n",
    "    bill = counted*5.50\n",
    "    print(bill)\n",
    "elif(counted>=25):\n",
    "    bill = counted*7\n",
    "    print(bill)\n",
    "else:  \n",
    "    bill = counted*4.7\n",
    "    print(bill)\n",
    "    "
   ]
  },
  {
   "cell_type": "code",
   "execution_count": 1,
   "metadata": {},
   "outputs": [
    {
     "name": "stdout",
     "output_type": "stream",
     "text": [
      "enter10*5\n",
      "50\n"
     ]
    }
   ],
   "source": [
    "x = eval(input(\"enter\"))\n",
    "print(x)"
   ]
  },
  {
   "cell_type": "markdown",
   "metadata": {},
   "source": []
  },
  {
   "cell_type": "code",
   "execution_count": 2,
   "metadata": {},
   "outputs": [
    {
     "name": "stdout",
     "output_type": "stream",
     "text": [
      "nos1,4\n",
      "a 1\n",
      "b 4\n"
     ]
    }
   ],
   "source": [
    "a,b = eval(input(\"nos\"))\n",
    "print(\"a\",a)\n",
    "print(\"b\",b)"
   ]
  },
  {
   "cell_type": "code",
   "execution_count": 1,
   "metadata": {},
   "outputs": [
    {
     "name": "stdout",
     "output_type": "stream",
     "text": [
      "no89,78\n",
      "loss: 11\n"
     ]
    }
   ],
   "source": [
    "cp,sp = eval(input(\"no\"))\n",
    "if(cp>sp):\n",
    "    loss = cp-sp\n",
    "    print(\"loss:\",loss)\n",
    "else: \n",
    "    profit = sp-cp\n",
    "    print(\"profit\",profit)"
   ]
  },
  {
   "cell_type": "markdown",
   "metadata": {},
   "source": [
    "## "
   ]
  },
  {
   "cell_type": "code",
   "execution_count": 3,
   "metadata": {},
   "outputs": [
    {
     "name": "stdout",
     "output_type": "stream",
     "text": [
      "Enter ist sub mark12\n",
      "enter 2nd sub marks34\n",
      "enter 3rd sub marks23\n",
      "fail 53.666666666666664\n"
     ]
    }
   ],
   "source": [
    "n = float(input(\"Enter ist sub mark\"))\n",
    "m = float(input(\"enter 2nd sub marks\"))\n",
    "o = float(input(\"enter 3rd sub marks\"))\n",
    "k = n+m+o/3\n",
    "if(k>=75):\n",
    "    print(\"dist.\",k)\n",
    "elif(60<=k<75):\n",
    "    print(\"pass\",k)\n",
    "elif(50<k<60):\n",
    "    print(\"fail\",k)"
   ]
  },
  {
   "cell_type": "code",
   "execution_count": 7,
   "metadata": {},
   "outputs": [
    {
     "name": "stdout",
     "output_type": "stream",
     "text": [
      "p\n",
      "y\n",
      "t\n",
      "h\n",
      "o\n",
      "n\n"
     ]
    }
   ],
   "source": [
    "for letter in \"python\":\n",
    "    print(letter)\n"
   ]
  },
  {
   "cell_type": "code",
   "execution_count": 10,
   "metadata": {},
   "outputs": [
    {
     "name": "stdout",
     "output_type": "stream",
     "text": [
      "10\n",
      "40\n",
      "60\n"
     ]
    }
   ],
   "source": [
    "for item in[\"10\",'40',\"60\"]:\n",
    "    print(item)"
   ]
  },
  {
   "cell_type": "code",
   "execution_count": 1,
   "metadata": {},
   "outputs": [
    {
     "ename": "SyntaxError",
     "evalue": "invalid syntax (<ipython-input-1-10dd2f07405a>, line 1)",
     "output_type": "error",
     "traceback": [
      "\u001b[1;36m  File \u001b[1;32m\"<ipython-input-1-10dd2f07405a>\"\u001b[1;36m, line \u001b[1;32m1\u001b[0m\n\u001b[1;33m    d =[\"name:\"\"ram\", \"age:\"20]\u001b[0m\n\u001b[1;37m                             ^\u001b[0m\n\u001b[1;31mSyntaxError\u001b[0m\u001b[1;31m:\u001b[0m invalid syntax\n"
     ]
    }
   ],
   "source": [
    "d =[\"name:\"\"ram\", \"age:\"20]\n",
    "for key in d:\n",
    "        print(d[key])\n",
    "        "
   ]
  },
  {
   "cell_type": "code",
   "execution_count": 2,
   "metadata": {},
   "outputs": [
    {
     "data": {
      "text/plain": [
       "range(0, 5)"
      ]
     },
     "execution_count": 2,
     "metadata": {},
     "output_type": "execute_result"
    }
   ],
   "source": [
    "range(5)"
   ]
  },
  {
   "cell_type": "code",
   "execution_count": 4,
   "metadata": {},
   "outputs": [
    {
     "name": "stdout",
     "output_type": "stream",
     "text": [
      "<class 'range'>\n"
     ]
    }
   ],
   "source": [
    "range(1,11)"
   ]
  },
  {
   "cell_type": "code",
   "execution_count": 2,
   "metadata": {},
   "outputs": [
    {
     "name": "stdout",
     "output_type": "stream",
     "text": [
      "10\n",
      "item at 0 index is 10\n",
      "20\n",
      "item at 1 index is 20\n",
      "30\n",
      "item at 2 index is 30\n"
     ]
    }
   ],
   "source": [
    "l = [10,20,30]\n",
    "for i in range (len(l)):\n",
    "    print(l[i])\n",
    "    print(\"item at\",i ,\"index is\",l[i])"
   ]
  },
  {
   "cell_type": "code",
   "execution_count": 3,
   "metadata": {},
   "outputs": [
    {
     "name": "stdout",
     "output_type": "stream",
     "text": [
      "8\n",
      "9\n",
      "88\n"
     ]
    }
   ],
   "source": [
    "y =[8,9,88]\n",
    "for t in range(len(y)):\n",
    "    print(y[t])\n"
   ]
  },
  {
   "cell_type": "code",
   "execution_count": 1,
   "metadata": {},
   "outputs": [
    {
     "name": "stdout",
     "output_type": "stream",
     "text": [
      "0 10\n",
      "1 70\n"
     ]
    }
   ],
   "source": [
    "#list 2 times?\n",
    "l = [10,70]\n",
    "for index,item in enumerate(l):\n",
    "    print(index,item)"
   ]
  },
  {
   "cell_type": "code",
   "execution_count": 2,
   "metadata": {},
   "outputs": [
    {
     "name": "stdout",
     "output_type": "stream",
     "text": [
      "nohtyp \n"
     ]
    }
   ],
   "source": [
    "s = \"python\"\n",
    "rev = \" \"\n",
    "for ch in s:\n",
    "    rev = ch+rev\n",
    "print(rev)"
   ]
  },
  {
   "cell_type": "code",
   "execution_count": 9,
   "metadata": {},
   "outputs": [
    {
     "name": "stdout",
     "output_type": "stream",
     "text": [
      " n\n",
      " no\n",
      " noh\n",
      " noht\n",
      " nohty\n",
      " nohtyp\n"
     ]
    }
   ],
   "source": [
    "s = \"python\"\n",
    "rev = \" \"\n",
    "for i in range(len(s)-1,-1,-1):\n",
    "    rev = rev+s[i]\n",
    "    print(rev)"
   ]
  },
  {
   "cell_type": "code",
   "execution_count": 10,
   "metadata": {},
   "outputs": [
    {
     "name": "stdout",
     "output_type": "stream",
     "text": [
      "7\n",
      "6\n"
     ]
    }
   ],
   "source": [
    "import math\n",
    "print(math.ceil(6.5))\n",
    "print(math.floor(6.5))"
   ]
  },
  {
   "cell_type": "code",
   "execution_count": 12,
   "metadata": {},
   "outputs": [
    {
     "name": "stdout",
     "output_type": "stream",
     "text": [
      "1.0986122886681098\n"
     ]
    }
   ],
   "source": [
    "import math\n",
    "print(math.log(3))"
   ]
  },
  {
   "cell_type": "code",
   "execution_count": 14,
   "metadata": {},
   "outputs": [
    {
     "name": "stdout",
     "output_type": "stream",
     "text": [
      "10\n"
     ]
    }
   ],
   "source": [
    "print(min(10,40,80))\n"
   ]
  },
  {
   "cell_type": "code",
   "execution_count": 17,
   "metadata": {},
   "outputs": [
    {
     "name": "stdout",
     "output_type": "stream",
     "text": [
      "13.0\n"
     ]
    }
   ],
   "source": [
    "import math\n",
    "t = math.modf(13.67)\n",
    "print(t[1])"
   ]
  },
  {
   "cell_type": "code",
   "execution_count": 18,
   "metadata": {},
   "outputs": [
    {
     "name": "stdout",
     "output_type": "stream",
     "text": [
      "34.68\n"
     ]
    }
   ],
   "source": [
    "#round off \n",
    "r = round(34.67888,2)\n",
    "print(r)"
   ]
  },
  {
   "cell_type": "code",
   "execution_count": null,
   "metadata": {},
   "outputs": [],
   "source": [
    "import math\n",
    "a = float(input(\"a:\"))\n",
    "b = float(input(\"b:\"))\n",
    "c = float(input(\"c:\"))\n",
    "s = (a+b+c)/3\n",
    "area = math.sqrt(s*(s-a)*(s-b)*(s-c))\n",
    "print(area)"
   ]
  },
  {
   "cell_type": "code",
   "execution_count": 11,
   "metadata": {},
   "outputs": [
    {
     "name": "stdout",
     "output_type": "stream",
     "text": [
      "70\n"
     ]
    }
   ],
   "source": [
    "import random\n",
    "print(random.randint(5,78))"
   ]
  },
  {
   "cell_type": "code",
   "execution_count": 13,
   "metadata": {},
   "outputs": [
    {
     "ename": "NameError",
     "evalue": "name 'rand' is not defined",
     "output_type": "error",
     "traceback": [
      "\u001b[1;31m---------------------------------------------------------------------------\u001b[0m",
      "\u001b[1;31mNameError\u001b[0m                                 Traceback (most recent call last)",
      "\u001b[1;32m<ipython-input-13-7d8b50ada3ba>\u001b[0m in \u001b[0;36m<module>\u001b[1;34m()\u001b[0m\n\u001b[0;32m      1\u001b[0m \u001b[1;32mimport\u001b[0m \u001b[0mrandom\u001b[0m\u001b[1;33m\u001b[0m\u001b[0m\n\u001b[1;32m----> 2\u001b[1;33m \u001b[0mprint\u001b[0m\u001b[1;33m(\u001b[0m\u001b[0mrand\u001b[0m\u001b[1;33m.\u001b[0m\u001b[0mrange\u001b[0m\u001b[1;33m(\u001b[0m\u001b[1;36m1\u001b[0m\u001b[1;33m,\u001b[0m\u001b[1;36m4\u001b[0m\u001b[1;33m,\u001b[0m\u001b[1;36m2\u001b[0m\u001b[1;33m)\u001b[0m\u001b[1;33m)\u001b[0m\u001b[1;33m\u001b[0m\u001b[0m\n\u001b[0m",
      "\u001b[1;31mNameError\u001b[0m: name 'rand' is not defined"
     ]
    }
   ],
   "source": [
    "import random\n",
    "print(rand.range(1,4,2))"
   ]
  },
  {
   "cell_type": "code",
   "execution_count": 23,
   "metadata": {},
   "outputs": [
    {
     "ename": "SyntaxError",
     "evalue": "invalid syntax (<ipython-input-23-83c4ee1ff48c>, line 3)",
     "output_type": "error",
     "traceback": [
      "\u001b[1;36m  File \u001b[1;32m\"<ipython-input-23-83c4ee1ff48c>\"\u001b[1;36m, line \u001b[1;32m3\u001b[0m\n\u001b[1;33m    random shuffle(l)\u001b[0m\n\u001b[1;37m                 ^\u001b[0m\n\u001b[1;31mSyntaxError\u001b[0m\u001b[1;31m:\u001b[0m invalid syntax\n"
     ]
    }
   ],
   "source": [
    "import random\n",
    "l = ['red', 'blue','green']\n",
    "random shuffle(l)\n",
    "print(l)\n"
   ]
  },
  {
   "cell_type": "code",
   "execution_count": 24,
   "metadata": {},
   "outputs": [
    {
     "name": "stdout",
     "output_type": "stream",
     "text": [
      "hi\n",
      "Player 1 throw a dice\n",
      "a: 2\n"
     ]
    }
   ],
   "source": [
    "print(\"hi\")\n",
    "print(\"Player 1 throw a dice\")\n",
    "import random\n",
    "print(\"your no is:\",random.randint(1,6))\n",
    "print(\"Player 2 throw a dice\")\n",
    "import random\n",
    "print(\"your no is:\",random.randint(1,6))\n",
    "\n"
   ]
  },
  {
   "cell_type": "code",
   "execution_count": null,
   "metadata": {},
   "outputs": [],
   "source": []
  }
 ],
 "metadata": {
  "kernelspec": {
   "display_name": "Python 3",
   "language": "python",
   "name": "python3"
  },
  "language_info": {
   "codemirror_mode": {
    "name": "ipython",
    "version": 3
   },
   "file_extension": ".py",
   "mimetype": "text/x-python",
   "name": "python",
   "nbconvert_exporter": "python",
   "pygments_lexer": "ipython3",
   "version": "3.6.5"
  }
 },
 "nbformat": 4,
 "nbformat_minor": 2
}
