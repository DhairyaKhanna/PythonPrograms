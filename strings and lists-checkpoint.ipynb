{
 "cells": [
  {
   "cell_type": "code",
   "execution_count": null,
   "metadata": {},
   "outputs": [
    {
     "name": "stdout",
     "output_type": "stream",
     "text": [
      "enter a number56\n",
      "enter a number89\n"
     ]
    }
   ],
   "source": [
    "num = int(input(\"enter a number\"))\n",
    "i=2\n",
    "flag =0\n",
    "while (i<=num//2):\n",
    "    if(num%i==0):\n",
    "        flag =1\n",
    "        num = int(input(\"enter a number\"))\n",
    "i=2\n",
    "flag =0\n",
    "while (i<=num//2):\n",
    "    if(num%i==0):\n",
    "        flag =1\n",
    "        break\n",
    "    i=i+1\n",
    "if flag ==1:\n",
    "    print(\"not prime\")\n",
    "else:\n",
    "    print('prime')  \n",
    "       "
   ]
  },
  {
   "cell_type": "code",
   "execution_count": 9,
   "metadata": {},
   "outputs": [
    {
     "name": "stdout",
     "output_type": "stream",
     "text": [
      "hi\n"
     ]
    }
   ],
   "source": [
    "print(\"hi\")"
   ]
  },
  {
   "cell_type": "code",
   "execution_count": 6,
   "metadata": {},
   "outputs": [
    {
     "ename": "SyntaxError",
     "evalue": "invalid syntax (<ipython-input-6-b4515b82827e>, line 3)",
     "output_type": "error",
     "traceback": [
      "\u001b[1;36m  File \u001b[1;32m\"<ipython-input-6-b4515b82827e>\"\u001b[1;36m, line \u001b[1;32m3\u001b[0m\n\u001b[1;33m    sum = 1\u001b[0m\n\u001b[1;37m      ^\u001b[0m\n\u001b[1;31mSyntaxError\u001b[0m\u001b[1;31m:\u001b[0m invalid syntax\n"
     ]
    }
   ],
   "source": [
    "#sum of factors\n",
    "n = int(input(\"enter\")\n",
    "sum = 1\n",
    "for i in range(n,1,-1):\n",
    "    if(n%i==0):\n",
    "        sum = sum+i\n",
    "print(sum)\n",
    "\n"
   ]
  },
  {
   "cell_type": "code",
   "execution_count": 1,
   "metadata": {},
   "outputs": [
    {
     "name": "stdout",
     "output_type": "stream",
     "text": [
      "enter a wordit\n",
      "itit\n"
     ]
    }
   ],
   "source": [
    "#error\n",
    "n = input(\"enter a word\")\n",
    "temp = n[:2]\n",
    "temp2 = n[-2:]\n",
    "b = temp+temp2\n",
    "if  len(b)>2:\n",
    "    print(temp+temp2)\n",
    "else:\n",
    "    print(0)\n"
   ]
  },
  {
   "cell_type": "code",
   "execution_count": 1,
   "metadata": {},
   "outputs": [
    {
     "name": "stdout",
     "output_type": "stream",
     "text": [
      "employ$$\n"
     ]
    }
   ],
   "source": [
    "#some error\n",
    "a = \"employee\" #employ$$\n",
    "s=a[1:]\n",
    "a=a[0]+s.replace(a[0],'$')\n",
    "print(a)"
   ]
  },
  {
   "cell_type": "code",
   "execution_count": 3,
   "metadata": {},
   "outputs": [
    {
     "name": "stdout",
     "output_type": "stream",
     "text": [
      "ayz xbc\n"
     ]
    }
   ],
   "source": [
    "#???\n",
    "a = \"abc\"\n",
    "b = \"xyz\"\n",
    "c = a[0]+b[1:]+\" \"+b[0]+a[1:]\n",
    "print(c)"
   ]
  },
  {
   "cell_type": "code",
   "execution_count": 12,
   "metadata": {},
   "outputs": [
    {
     "name": "stdout",
     "output_type": "stream",
     "text": [
      "0\n"
     ]
    }
   ],
   "source": [
    "print(c.find('a'))"
   ]
  },
  {
   "cell_type": "code",
   "execution_count": 13,
   "metadata": {},
   "outputs": [
    {
     "name": "stdout",
     "output_type": "stream",
     "text": [
      "3\n"
     ]
    }
   ],
   "source": [
    "print(c.find('x'))"
   ]
  },
  {
   "cell_type": "code",
   "execution_count": 27,
   "metadata": {},
   "outputs": [
    {
     "ename": "SyntaxError",
     "evalue": "unexpected EOF while parsing (<ipython-input-27-c1ee4c5ed313>, line 1)",
     "output_type": "error",
     "traceback": [
      "\u001b[1;36m  File \u001b[1;32m\"<ipython-input-27-c1ee4c5ed313>\"\u001b[1;36m, line \u001b[1;32m1\u001b[0m\n\u001b[1;33m    print(c.replace(a,x = x,a)\u001b[0m\n\u001b[1;37m                              ^\u001b[0m\n\u001b[1;31mSyntaxError\u001b[0m\u001b[1;31m:\u001b[0m unexpected EOF while parsing\n"
     ]
    }
   ],
   "source": [
    "print(c.replace(a,x = x,a)"
   ]
  },
  {
   "cell_type": "code",
   "execution_count": 2,
   "metadata": {},
   "outputs": [
    {
     "name": "stdout",
     "output_type": "stream",
     "text": [
      "hi\n"
     ]
    }
   ],
   "source": [
    "l = ['hello', 'hi','aamaste']\n",
    "print(max(l))"
   ]
  },
  {
   "cell_type": "code",
   "execution_count": 2,
   "metadata": {},
   "outputs": [
    {
     "name": "stdout",
     "output_type": "stream",
     "text": [
      "kiding\n"
     ]
    }
   ],
   "source": [
    "l = 'kid'\n",
    "if(l.endswith(\"ing\")):\n",
    "   l=l+\"ly\"\n",
    "else:\n",
    "   l=l+\"ing\"\n",
    "print(l)\n",
    "   "
   ]
  },
  {
   "cell_type": "code",
   "execution_count": 7,
   "metadata": {},
   "outputs": [
    {
     "name": "stdout",
     "output_type": "stream",
     "text": [
      "oellh\n"
     ]
    }
   ],
   "source": [
    "a =\"hello\"\n",
    "print(a[-1]+a[1:len(a)-1]+a[0])\n"
   ]
  },
  {
   "cell_type": "code",
   "execution_count": 10,
   "metadata": {},
   "outputs": [
    {
     "name": "stdout",
     "output_type": "stream",
     "text": [
      "jk\n"
     ]
    }
   ],
   "source": [
    "a = 'joke'\n",
    "print(a[0]+a[2])"
   ]
  },
  {
   "cell_type": "code",
   "execution_count": 13,
   "metadata": {},
   "outputs": [
    {
     "name": "stdout",
     "output_type": "stream",
     "text": [
      "apple, banana, mango\n"
     ]
    }
   ],
   "source": [
    "l = ['apple','banana','mango']\n",
    "s =\", \".join(l)\n",
    "print(s)\n"
   ]
  },
  {
   "cell_type": "code",
   "execution_count": 15,
   "metadata": {},
   "outputs": [
    {
     "name": "stdout",
     "output_type": "stream",
     "text": [
      "kitten\n"
     ]
    }
   ],
   "source": [
    "a = \"kiten\"\n",
    "print(a[:2]+'t'+a[2:])"
   ]
  },
  {
   "cell_type": "code",
   "execution_count": 20,
   "metadata": {},
   "outputs": [
    {
     "name": "stdout",
     "output_type": "stream",
     "text": [
      "oooo\n"
     ]
    }
   ],
   "source": [
    "a = \"hello\"\n",
    "print(a[-1]*4)"
   ]
  },
  {
   "cell_type": "code",
   "execution_count": 29,
   "metadata": {},
   "outputs": [
    {
     "name": "stdout",
     "output_type": "stream",
     "text": [
      "fox little brown quick\n"
     ]
    }
   ],
   "source": [
    "a = \"quick brown little fox\"\n",
    "l = a.split()\n",
    "l1=l[::-1]\n",
    "#how to make a string\n",
    "s=\" \".join(l1)\n",
    "print(s)\n",
    "\n"
   ]
  },
  {
   "cell_type": "code",
   "execution_count": 40,
   "metadata": {},
   "outputs": [
    {
     "name": "stdout",
     "output_type": "stream",
     "text": [
      "['TEACHER', 'BANANA', 'APPLE']\n",
      "BANANA\n"
     ]
    }
   ],
   "source": [
    "l = ['APPLE','BANANA','TEACHER']\n",
    "l1 = sorted(l,reverse=True)\n",
    "print(l1)\n",
    "print(l1[1])"
   ]
  },
  {
   "cell_type": "code",
   "execution_count": 43,
   "metadata": {},
   "outputs": [
    {
     "name": "stdout",
     "output_type": "stream",
     "text": [
      "764400\n"
     ]
    }
   ],
   "source": [
    "l = [10,20,49,78]\n",
    "prod=1\n",
    "for item in l:\n",
    "    prod=prod*item\n",
    "print(prod)"
   ]
  },
  {
   "cell_type": "code",
   "execution_count": 44,
   "metadata": {},
   "outputs": [
    {
     "name": "stdout",
     "output_type": "stream",
     "text": [
      "855\n"
     ]
    }
   ],
   "source": [
    "l = [19,45,34]\n",
    "l1 = sorted(l,reverse=True)\n",
    "print(l1[-1]*l1[0])"
   ]
  },
  {
   "cell_type": "code",
   "execution_count": 45,
   "metadata": {},
   "outputs": [
    {
     "data": {
      "text/plain": [
       "855"
      ]
     },
     "execution_count": 45,
     "metadata": {},
     "output_type": "execute_result"
    }
   ],
   "source": [
    "19*45"
   ]
  },
  {
   "cell_type": "code",
   "execution_count": 50,
   "metadata": {},
   "outputs": [
    {
     "name": "stdout",
     "output_type": "stream",
     "text": [
      "xyx\n",
      "aba\n",
      "1221\n"
     ]
    }
   ],
   "source": [
    "l = ['abc','xyx','aba','1221','aa']\n",
    "for i in l:\n",
    "    if(len(i)>2 and i[0]==i[-1]):\n",
    "        print(i)"
   ]
  },
  {
   "cell_type": "code",
   "execution_count": 56,
   "metadata": {},
   "outputs": [
    {
     "name": "stdout",
     "output_type": "stream",
     "text": [
      "enter a word3\n",
      "hello\n",
      "Ram\n",
      "went\n"
     ]
    }
   ],
   "source": [
    "n =int(input(\"enter a word\"))\n",
    "l =['hello','Ram','me','ok','went']\n",
    "for i in l:\n",
    "    if (len(i)>=n):\n",
    "        print(i)\n"
   ]
  },
  {
   "cell_type": "code",
   "execution_count": 60,
   "metadata": {},
   "outputs": [
    {
     "name": "stdout",
     "output_type": "stream",
     "text": [
      "['me', 'all', 1, 3, 6, 664]\n"
     ]
    }
   ],
   "source": [
    "l = [\"you\",\"me\",\"all\",1,3,5,6,2,664]\n",
    "l.pop(0)\n",
    "l.pop(4)\n",
    "l.pop(5)\n",
    "print(l)"
   ]
  },
  {
   "cell_type": "code",
   "execution_count": 63,
   "metadata": {},
   "outputs": [
    {
     "name": "stdout",
     "output_type": "stream",
     "text": [
      "life\n"
     ]
    }
   ],
   "source": [
    "l = [10,90,64,\"life\",\"soul\",\"peace\"]\n",
    "import random\n",
    "print(random.choice(l))"
   ]
  },
  {
   "cell_type": "code",
   "execution_count": 74,
   "metadata": {},
   "outputs": [
    {
     "name": "stdout",
     "output_type": "stream",
     "text": [
      "['I', 'am', 'hello', 'Dhairya']\n"
     ]
    }
   ],
   "source": [
    "l = 'hello I am Dhairya'\n",
    "k = l.split()\n",
    "print(sorted(k,key = lambda s:len(s)))"
   ]
  },
  {
   "cell_type": "code",
   "execution_count": 89,
   "metadata": {},
   "outputs": [
    {
     "name": "stdout",
     "output_type": "stream",
     "text": [
      "[1, 9, 16]\n"
     ]
    }
   ],
   "source": [
    "l = [1,3,4]\n",
    "square = lambda x:x**2\n",
    "k = list(map(square,l))\n",
    "print(k)"
   ]
  },
  {
   "cell_type": "code",
   "execution_count": 5,
   "metadata": {},
   "outputs": [
    {
     "name": "stdout",
     "output_type": "stream",
     "text": [
      "[55.400000000000006, 86.0, 120.2]\n",
      "55.4\n"
     ]
    }
   ],
   "source": [
    "c = [13,30,49]\n",
    "fahrenheit = lambda x:9/5*x+32\n",
    "k = list(map(fahrenheit,c))\n",
    "print(k)\n",
    "x=round(k[0],2)\n",
    "print(x)\n"
   ]
  },
  {
   "cell_type": "code",
   "execution_count": 6,
   "metadata": {},
   "outputs": [
    {
     "name": "stdout",
     "output_type": "stream",
     "text": [
      "[7, 10, 13]\n"
     ]
    }
   ],
   "source": [
    "a = [1,2,3]\n",
    "b = [2,3,4]\n",
    "c = [4,5,6]\n",
    "k = list(map(lambda x,y,z:x+y+z,a,b,c))\n",
    "print(k)"
   ]
  },
  {
   "cell_type": "code",
   "execution_count": 7,
   "metadata": {},
   "outputs": [
    {
     "name": "stdout",
     "output_type": "stream",
     "text": [
      "['ppp', 'qqq']\n"
     ]
    }
   ],
   "source": [
    "l = ['p','q']\n",
    "star = lambda x:x*3\n",
    "k = list(map(star,l))\n",
    "print(k)"
   ]
  },
  {
   "cell_type": "code",
   "execution_count": 22,
   "metadata": {},
   "outputs": [
    {
     "name": "stdout",
     "output_type": "stream",
     "text": [
      "name:Mohan\n",
      "[6, 3]\n",
      "['We', 455, 7, 8, 6, 3]\n",
      "['We', 7, 8, 6, 3]\n",
      "['We', 7, 8, 6, 3, 1, 5, 67]\n",
      "True\n",
      "1\n",
      "3\n",
      "4\n",
      "item at 0 index is item 10\n",
      "item at 1 index is item 56\n",
      "5\n",
      "967\n"
     ]
    }
   ],
   "source": [
    "#updating lists.\n",
    "l =[\"We\",\"name:Mohan\",7,8,6,3]\n",
    "print(l[1])\n",
    "print(l[-2:])\n",
    "l[1]=455\n",
    "print(l)\n",
    "del l[1]\n",
    "print(l)\n",
    "l2 = [1,5,67]\n",
    "print(l+l2)\n",
    "print(7 in l)\n",
    "l = [1,3,4]\n",
    "for i in range(len(l)):\n",
    "    print(l[i])\n",
    "l = [10,56]\n",
    "for index,item in enumerate(l):\n",
    "    print(\"item at\",index,\"index is item\",item)\n",
    "k = list(range(1,6))\n",
    "print(len(k))\n",
    "m = [12,56,899]\n",
    "print(sum(m))"
   ]
  },
  {
   "cell_type": "code",
   "execution_count": 25,
   "metadata": {},
   "outputs": [
    {
     "name": "stdout",
     "output_type": "stream",
     "text": [
      "[11, 35, 77, 'python']\n"
     ]
    }
   ],
   "source": [
    "l = [11,35,77]\n",
    "l.append('python')\n",
    "print(l)"
   ]
  },
  {
   "cell_type": "code",
   "execution_count": 27,
   "metadata": {},
   "outputs": [
    {
     "name": "stdout",
     "output_type": "stream",
     "text": [
      "[11, 45, 11, 45]\n"
     ]
    }
   ],
   "source": [
    "l = [11,45]\n",
    "l.extend(l)\n",
    "print(l)"
   ]
  },
  {
   "cell_type": "code",
   "execution_count": 8,
   "metadata": {},
   "outputs": [
    {
     "name": "stdout",
     "output_type": "stream",
     "text": [
      "State:Punjab\n",
      "cities are:d e f \n",
      "State:zHaryana\n",
      "cities are:a b c \n"
     ]
    }
   ],
   "source": [
    "l =[[\"zHaryana\",[\"a\",\"b\",\"c\"]],[\"Punjab\",[\"f\",\"e\",\"d\"]]]\n",
    "l.sort()\n",
    "for row in l:\n",
    "    row[1].sort()\n",
    "    \n",
    "for row in l:\n",
    "    print(\"State:\"+row[0])\n",
    "    c = \"cities are:\"\n",
    "    for cities in row[1]:\n",
    "         c=c+cities+\" \"\n",
    "    print(c)"
   ]
  },
  {
   "cell_type": "code",
   "execution_count": 10,
   "metadata": {},
   "outputs": [
    {
     "name": "stdout",
     "output_type": "stream",
     "text": [
      "[1948, 90, 78, 10]\n"
     ]
    }
   ],
   "source": [
    "l1 =[10,78,1948,90,10]\n",
    "l2 =[]\n",
    "for i in l1:\n",
    "    if i not in l2:\n",
    "        l2.append(i)\n",
    "        l2.sort(reverse = True)\n",
    "print(l2)        "
   ]
  },
  {
   "cell_type": "code",
   "execution_count": 8,
   "metadata": {},
   "outputs": [
    {
     "name": "stdout",
     "output_type": "stream",
     "text": [
      "[10, 34, 30, 55]\n"
     ]
    }
   ],
   "source": [
    "l1 = [10,30,55,10,34,30]\n",
    "l2 = list(set(l1))\n",
    "print(l2)"
   ]
  },
  {
   "cell_type": "code",
   "execution_count": 34,
   "metadata": {},
   "outputs": [
    {
     "name": "stdout",
     "output_type": "stream",
     "text": [
      "[50, 20, 40, 10, 30]\n"
     ]
    }
   ],
   "source": [
    "l1= [10,20,30,40]\n",
    "l2= [10,30,50]\n",
    "k =list(set(l1) | set(l2))\n",
    "print(k)\n",
    "         "
   ]
  },
  {
   "cell_type": "code",
   "execution_count": 37,
   "metadata": {},
   "outputs": [
    {
     "name": "stdout",
     "output_type": "stream",
     "text": [
      "Counter({'a': 2, 'b': 2, 'c': 1})\n"
     ]
    }
   ],
   "source": [
    "import collections\n",
    "l = ['a','b','c',\"a\",'b']\n",
    "d = collections.Counter(l)\n",
    "print(d)"
   ]
  },
  {
   "cell_type": "code",
   "execution_count": 24,
   "metadata": {},
   "outputs": [
    {
     "name": "stdout",
     "output_type": "stream",
     "text": [
      "1 2 3 \n",
      "4 5 6 \n"
     ]
    }
   ],
   "source": [
    "l = [[1,2,3],[4,5,6]]\n",
    "for row in l:\n",
    "    for i in row:\n",
    "        print(i,end=' ')\n",
    "    print()    "
   ]
  },
  {
   "cell_type": "code",
   "execution_count": 28,
   "metadata": {},
   "outputs": [
    {
     "name": "stdout",
     "output_type": "stream",
     "text": [
      "0 0 0 \n",
      "0 0 0 \n"
     ]
    }
   ],
   "source": [
    "l = [[0,0,0],[0,0,0]]\n",
    "for row in l:\n",
    "    for i in row:\n",
    "        print(i,end=' ')\n",
    "    print()    \n",
    "    \n",
    "    "
   ]
  },
  {
   "cell_type": "code",
   "execution_count": 2,
   "metadata": {},
   "outputs": [],
   "source": []
  },
  {
   "cell_type": "code",
   "execution_count": 4,
   "metadata": {},
   "outputs": [
    {
     "name": "stdout",
     "output_type": "stream",
     "text": [
      "[2, 3, 4, 3, 4, 5]\n"
     ]
    }
   ],
   "source": [
    "#flattening a list\n",
    "import itertools\n",
    "l = [[2,3,4],[3,4,5]]\n",
    "nl =list(itertools.chain(*l))\n",
    "print(nl)\n",
    "n = [[1,2,3],[3,5,6]]\n",
    "l = []\n",
    "for row in n:\n",
    "    l.extend(row)\n",
    "    "
   ]
  },
  {
   "cell_type": "code",
   "execution_count": null,
   "metadata": {},
   "outputs": [],
   "source": []
  }
 ],
 "metadata": {
  "kernelspec": {
   "display_name": "Python 3",
   "language": "python",
   "name": "python3"
  },
  "language_info": {
   "codemirror_mode": {
    "name": "ipython",
    "version": 3
   },
   "file_extension": ".py",
   "mimetype": "text/x-python",
   "name": "python",
   "nbconvert_exporter": "python",
   "pygments_lexer": "ipython3",
   "version": "3.6.5"
  }
 },
 "nbformat": 4,
 "nbformat_minor": 2
}
