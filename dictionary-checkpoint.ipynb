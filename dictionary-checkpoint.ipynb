{
 "cells": [
  {
   "cell_type": "code",
   "execution_count": 2,
   "metadata": {},
   "outputs": [
    {
     "name": "stdout",
     "output_type": "stream",
     "text": [
      "{'name': 'Ram', 'age': 20}\n",
      "{'name': 'Rama', 'age': 20}\n"
     ]
    }
   ],
   "source": [
    "#dictionary\n",
    "#to convert tupple to dict.\n",
    "t = (('name','Ram'),('age',20))\n",
    "d = dict(t)\n",
    "print(d)\n",
    "\n",
    "d['name']='Rama'#updating dict\n",
    "print(d)"
   ]
  },
  {
   "cell_type": "code",
   "execution_count": 14,
   "metadata": {},
   "outputs": [
    {
     "name": "stdout",
     "output_type": "stream",
     "text": [
      "{'course': 'PGDCA', 5: 200, ('Maths', 'Science'): (90, 60)}\n",
      "{'course': 'mca', 5: 200, ('Maths', 'Science'): (90, 60), 'name': 'Rama'}\n"
     ]
    }
   ],
   "source": [
    "d ={}\n",
    "d['course']=\"PGDCA\"\n",
    "d[5]=200\n",
    "d[(\"Maths\",\"Science\")]=(90,60)\n",
    "print(d)\n",
    "d ['name']='Rama'\n",
    "d['course']='mca'\n",
    "print(d)"
   ]
  },
  {
   "cell_type": "code",
   "execution_count": 1,
   "metadata": {},
   "outputs": [
    {
     "name": "stdout",
     "output_type": "stream",
     "text": [
      "{'y': 1, 'i': 1, 'p': 2, 'e': 2}\n"
     ]
    }
   ],
   "source": [
    "y = 'yippee'#counting elements using dict..\n",
    "d = dict()\n",
    "for i in y:\n",
    "    if i in d:\n",
    "        d[i]+=1\n",
    "    else:\n",
    "        d[i]=1\n",
    "print(d)        \n",
    "    \n"
   ]
  },
  {
   "cell_type": "code",
   "execution_count": 9,
   "metadata": {},
   "outputs": [
    {
     "name": "stdout",
     "output_type": "stream",
     "text": [
      "name Ram\n",
      "age 20\n",
      "dict_values(['Ram', 20])\n",
      "name : Ram\n",
      "age : 20\n"
     ]
    }
   ],
   "source": [
    "d = {'name':'Ram','age':20}\n",
    "for a in d:\n",
    "    print(a,d[a])\n",
    "print(d.values())\n",
    "for key,value in d.items():\n",
    "    print(key,\":\",value)"
   ]
  },
  {
   "cell_type": "code",
   "execution_count": 1,
   "metadata": {},
   "outputs": [
    {
     "name": "stdout",
     "output_type": "stream",
     "text": [
      "Mohan\n",
      "cars\n",
      "roll no\n",
      "Priya\n",
      "class\n",
      "roll no\n"
     ]
    }
   ],
   "source": [
    "s = {'Mohan':{'cars':'V','roll no':'2'},'Priya':{'class':'VI','roll no':'4'}}\n",
    "for key in s:\n",
    "    print(key)\n",
    "    for j in s[key]:\n",
    "        print(j)\n",
    "       # s[key][j]"
   ]
  },
  {
   "cell_type": "code",
   "execution_count": 3,
   "metadata": {},
   "outputs": [
    {
     "name": "stdout",
     "output_type": "stream",
     "text": [
      "3\n",
      "{'name': 'Ram', 'Age': 20, 'class': 'v'}\n",
      "{'name': 'Ram', 'Age': 20, 'class': 'v'}\n",
      "<class 'dict'>\n",
      "{'name': 'Ram', 'Age': 20, 'class': 'v'}\n",
      "dict_items([('name', 'Ram'), ('Age', 20), ('class', 'v')])\n",
      "dict_items([('name', 'abc'), ('age', '12')])\n"
     ]
    }
   ],
   "source": [
    "d = {\"name\":\"Ram\",\"Age\":20, \"class\":\"v\"}\n",
    "print(len(d))\n",
    "print(d)\n",
    "print(str(d))\n",
    "print(type(d))\n",
    "d.copy()\n",
    "d1 = d.copy()\n",
    "print(d1)\n",
    "print(d.items())\n",
    "j = {\"name\":'ram',\"age\":\"12\",\"name\":\"abc\"} #updated names[questions]\"we cnt enter 2 records with same initial keys\"\n",
    "print(j.items())\n",
    "\n"
   ]
  },
  {
   "cell_type": "code",
   "execution_count": 7,
   "metadata": {},
   "outputs": [
    {
     "name": "stdout",
     "output_type": "stream",
     "text": [
      "{'apple': 120, 'banana': 12222, 'frerdfdf': 237654}\n"
     ]
    }
   ],
   "source": [
    "l = [('apple',120),('banana',12222),(\"frerdfdf\",237654)]\n",
    "d = dict(l)\n",
    "print(d)"
   ]
  },
  {
   "cell_type": "code",
   "execution_count": 10,
   "metadata": {},
   "outputs": [
    {
     "name": "stdout",
     "output_type": "stream",
     "text": [
      "{'name': 'Ram', 'age': 21}\n"
     ]
    }
   ],
   "source": [
    "d1 = {'name':'Ram'}\n",
    "d2 = {'age':21}\n",
    "d1.update(d2)\n",
    "print(d1)"
   ]
  },
  {
   "cell_type": "code",
   "execution_count": 17,
   "metadata": {},
   "outputs": [
    {
     "name": "stdout",
     "output_type": "stream",
     "text": [
      "{1.1: 2.2, 3.3: 4.44, 5.5: 6.6}\n"
     ]
    }
   ],
   "source": [
    "d1 = {1.10:2.20}\n",
    "d2 = {3.3:4.44}\n",
    "d3 = {5.5:6.6}\n",
    "d4 = {}\n",
    "for d in (d1,d2,d3):\n",
    "    d4.update(d)\n",
    "print(d4)    "
   ]
  },
  {
   "cell_type": "code",
   "execution_count": 16,
   "metadata": {},
   "outputs": [
    {
     "name": "stdout",
     "output_type": "stream",
     "text": [
      "{'name': 'Ram', 'age': 20}\n"
     ]
    }
   ],
   "source": [
    "t1 = (\"name\",\"age\")\n",
    "t2 = (\"Ram\",20)\n",
    "d = {}\n",
    "d = d.fromkeys(t1)\n",
    "i = 0\n",
    "for key in d:\n",
    "    d[key]=t2[i]\n",
    "    i=i+1\n",
    "print(d)    "
   ]
  },
  {
   "cell_type": "code",
   "execution_count": 18,
   "metadata": {},
   "outputs": [
    {
     "name": "stdout",
     "output_type": "stream",
     "text": [
      "{'name': 'Ram', 'age': 20}\n"
     ]
    }
   ],
   "source": [
    "d = dict(zip(t1,t2))#same as fromkeys\n",
    "print(d)"
   ]
  },
  {
   "cell_type": "code",
   "execution_count": 43,
   "metadata": {},
   "outputs": [
    {
     "name": "stdout",
     "output_type": "stream",
     "text": [
      "[('name2=errr', 'age', 2), ('name=wadd', 'age', 3)]\n",
      "[('y', 1), ('i', 1), ('p', 2), ('e', 2)]\n"
     ]
    }
   ],
   "source": [
    "l = {('name=wadd','age',3),('name2=errr','age',2)}\n",
    "\n",
    "print(sorted(l))\n",
    "print(sorted(d.items(),key=lambda x:x[-1]))\n"
   ]
  },
  {
   "cell_type": "code",
   "execution_count": 31,
   "metadata": {},
   "outputs": [
    {
     "name": "stdout",
     "output_type": "stream",
     "text": [
      "{'y': 1, 'i': 1, 'p': 2, 'e': 2}\n"
     ]
    }
   ],
   "source": [
    "w = \"yippee\"\n",
    "d = {}\n",
    "for i in w:\n",
    "    d[i]=d.get(i,0)+1\n",
    "print(d)    "
   ]
  },
  {
   "cell_type": "code",
   "execution_count": 48,
   "metadata": {},
   "outputs": [
    {
     "name": "stdout",
     "output_type": "stream",
     "text": [
      "[('ram', 32), ('zpoja', 23)]\n"
     ]
    }
   ],
   "source": [
    "f = {'zpoja':23,'ram':32}\n",
    "import operator\n",
    "print(sorted(f.items(),key = operator.itemgetter(0)))"
   ]
  },
  {
   "cell_type": "code",
   "execution_count": 13,
   "metadata": {},
   "outputs": [
    {
     "name": "stdout",
     "output_type": "stream",
     "text": [
      "[('zRam', (100, 29, 24)), ('Sam', (94, 43, 54))]\n"
     ]
    }
   ],
   "source": [
    "k = {\"zRam\":(100,29,24),\"Sam\":(94,43,54)}\n",
    "print(sorted(k.items(),key =lambda t:t[-1][-2]))#how to sort acc to 2nd no."
   ]
  },
  {
   "cell_type": "code",
   "execution_count": 6,
   "metadata": {},
   "outputs": [
    {
     "name": "stdout",
     "output_type": "stream",
     "text": [
      "enter a no:9\n",
      "{0: 0}\n",
      "{1: 1}\n",
      "{2: 4}\n",
      "{3: 9}\n",
      "{4: 16}\n",
      "{5: 25}\n",
      "{6: 36}\n",
      "{7: 49}\n",
      "{8: 64}\n"
     ]
    }
   ],
   "source": [
    "n = int(input(\"enter a no:\"))\n",
    "for i in range(n):\n",
    "    d ={}\n",
    "    d[i]=i**2\n",
    "    print(d)\n",
    "    "
   ]
  },
  {
   "cell_type": "code",
   "execution_count": 7,
   "metadata": {},
   "outputs": [
    {
     "name": "stdout",
     "output_type": "stream",
     "text": [
      "10\n",
      "44\n",
      "59\n",
      "[(10, 'maths'), (15, 'maths'), (34, 'science')]\n"
     ]
    }
   ],
   "source": [
    "d ={10:'maths',34:'science',15:'maths'}\n",
    "sum = 0\n",
    "for i in d:\n",
    "    sum = sum+i\n",
    "    print(sum)\n",
    "print(sorted(d.items()))    "
   ]
  },
  {
   "cell_type": "code",
   "execution_count": 12,
   "metadata": {},
   "outputs": [
    {
     "name": "stdout",
     "output_type": "stream",
     "text": [
      "[('ram', (13, 23, 45)), ('dan', (45, 32, 44)), ('frg', (2, 5, 6))]\n"
     ]
    }
   ],
   "source": [
    "m = {'ram':(13,23,45),'dan':(45,32,44),'frg':(2,5,6)}\n",
    "print(sorted(m.items(),key= lambda t:t[-1][2],reverse = True))"
   ]
  },
  {
   "cell_type": "code",
   "execution_count": 32,
   "metadata": {},
   "outputs": [
    {
     "name": "stdout",
     "output_type": "stream",
     "text": [
      "{'roll no': 1, 'sub.': 'maths', 'v+vi': 78}\n",
      "{'roll no': 2, 'sub.': 'maths', 'v+vi': 79}\n"
     ]
    }
   ],
   "source": [
    "l = {'roll no': 1,'sub.':'maths','v':23,'vi':78}\n",
    "m = {'roll no':2,'sub.':'maths','v':45,'vi':34}\n",
    "\n",
    "n1=l.pop('v')\n",
    "n2=m.pop('v')\n",
    "n3=l.pop('vi')\n",
    "n4=m.pop('vi')\n",
    "n5=n1+n3\n",
    "n6=n2+n4\n",
    "h={'v+vi':n6}\n",
    "m.update(h)\n",
    "k={'v+vi':n3}\n",
    "l.update(k)\n",
    "print(l)\n",
    "print(m)\n",
    "\n"
   ]
  },
  {
   "cell_type": "code",
   "execution_count": null,
   "metadata": {},
   "outputs": [],
   "source": []
  }
 ],
 "metadata": {
  "kernelspec": {
   "display_name": "Python 3",
   "language": "python",
   "name": "python3"
  },
  "language_info": {
   "codemirror_mode": {
    "name": "ipython",
    "version": 3
   },
   "file_extension": ".py",
   "mimetype": "text/x-python",
   "name": "python",
   "nbconvert_exporter": "python",
   "pygments_lexer": "ipython3",
   "version": "3.6.5"
  }
 },
 "nbformat": 4,
 "nbformat_minor": 2
}
