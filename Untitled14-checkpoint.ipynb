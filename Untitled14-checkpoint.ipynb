{
 "cells": [
  {
   "cell_type": "code",
   "execution_count": 8,
   "metadata": {},
   "outputs": [
    {
     "name": "stdout",
     "output_type": "stream",
     "text": [
      "1 0\n",
      "2 1\n",
      "3 3\n",
      "4 6\n",
      "5 10\n",
      "6 15\n"
     ]
    }
   ],
   "source": [
    "sum = 0\n",
    "i = 0\n",
    "while i<=5:\n",
    "    sum = sum+i\n",
    "    i = i+1\n",
    "    print(i,sum)"
   ]
  },
  {
   "cell_type": "code",
   "execution_count": 22,
   "metadata": {},
   "outputs": [
    {
     "name": "stdout",
     "output_type": "stream",
     "text": [
      "6\n",
      "12\n",
      "18\n",
      "24\n",
      "30\n",
      "36\n",
      "42\n",
      "48\n",
      "54\n",
      "60\n"
     ]
    }
   ],
   "source": [
    "\n",
    "i = 0\n",
    "while i<=54:\n",
    "    i = i+6\n",
    "    print(1*i)\n"
   ]
  },
  {
   "cell_type": "code",
   "execution_count": null,
   "metadata": {},
   "outputs": [
    {
     "name": "stdout",
     "output_type": "stream",
     "text": [
      "enter a no:45\n"
     ]
    }
   ],
   "source": [
    "n = int(input(\"enter a no:\"))\n",
    "flag = 0\n",
    "i = 2\n",
    "while (i<=n/2):\n",
    "    if(n%i==0):\n",
    "        flag = 1\n",
    "        break\n",
    "        \n",
    "    \n",
    "    "
   ]
  },
  {
   "cell_type": "code",
   "execution_count": 9,
   "metadata": {},
   "outputs": [
    {
     "name": "stdout",
     "output_type": "stream",
     "text": [
      "enter:45\n",
      "sum of digits 'n' is: 9\n"
     ]
    }
   ],
   "source": [
    "n = int(input(\"enter:\"))\n",
    "temp = n\n",
    "m = n%10\n",
    "k = n//10\n",
    "o = k%10\n",
    "l = k//10        \n",
    "d = m+o+l\n",
    "print(\"sum of digits is:\",d)\n"
   ]
  },
  {
   "cell_type": "code",
   "execution_count": 3,
   "metadata": {},
   "outputs": [
    {
     "data": {
      "text/plain": [
       "1"
      ]
     },
     "execution_count": 3,
     "metadata": {},
     "output_type": "execute_result"
    }
   ],
   "source": [
    "7%2"
   ]
  },
  {
   "cell_type": "code",
   "execution_count": 2,
   "metadata": {},
   "outputs": [
    {
     "name": "stdout",
     "output_type": "stream",
     "text": [
      "hi\n"
     ]
    }
   ],
   "source": [
    "print(\"hi\")"
   ]
  },
  {
   "cell_type": "code",
   "execution_count": 12,
   "metadata": {},
   "outputs": [
    {
     "name": "stdout",
     "output_type": "stream",
     "text": [
      "enter no to be reversed1234\n",
      "the reversed no is: 4 3 12\n"
     ]
    }
   ],
   "source": [
    "n = int(input(\"enter no to be reversed\"))\n",
    "m = n%10\n",
    "k = n//10\n",
    "o = k%10\n",
    "l = k//10\n",
    "print(\"the reversed no is:\",m,o,l)"
   ]
  },
  {
   "cell_type": "code",
   "execution_count": null,
   "metadata": {},
   "outputs": [
    {
     "name": "stdout",
     "output_type": "stream",
     "text": [
      "enter a no:345\n"
     ]
    }
   ],
   "source": [
    "num = int(input(\"enter a no:\"))\n",
    "sum =0\n",
    "while 1:\n",
    "    digit = num%10\n",
    "    sum = sum+digit\n",
    "    num=num//10\n",
    "print(\"reversed num:\",sum)"
   ]
  },
  {
   "cell_type": "code",
   "execution_count": null,
   "metadata": {},
   "outputs": [],
   "source": []
  }
 ],
 "metadata": {
  "kernelspec": {
   "display_name": "Python 3",
   "language": "python",
   "name": "python3"
  },
  "language_info": {
   "codemirror_mode": {
    "name": "ipython",
    "version": 3
   },
   "file_extension": ".py",
   "mimetype": "text/x-python",
   "name": "python",
   "nbconvert_exporter": "python",
   "pygments_lexer": "ipython3",
   "version": "3.6.5"
  }
 },
 "nbformat": 4,
 "nbformat_minor": 2
}
